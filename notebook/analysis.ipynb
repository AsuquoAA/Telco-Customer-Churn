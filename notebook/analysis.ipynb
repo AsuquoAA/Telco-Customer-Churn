{
 "cells": [
  {
   "cell_type": "markdown",
   "metadata": {},
   "source": [
    "# __Customer Churn Analysis__"
   ]
  },
  {
   "cell_type": "markdown",
   "metadata": {},
   "source": [
    "__Context__: Telco, a popular telecom company just started to experience customer churn, The Sales manager is deeply concerned as he is unsure of the cause as sales data include many variables. The goal is to identify the key drivers of this decline and recommend ways to averse it.\n",
    "\n",
    "__Broad Problem__: What is the cause of the customer churn at Telco?\n",
    "\n",
    "__Narrow Problem__: What factors are driving customer churn?\n",
    "\n",
    "<u>Why this matters?</u>\n",
    "1. Customer churn is critical as it leads to lost revenue and increase costs to get back those customers\n",
    "2. Telco being a reputable company, customer churn could really affect it's image \n",
    "3. We need to look at the factors holistically make better decisions instead of looking for a short fix\n",
    "\n",
    "<u>Next Steps</u>\n",
    "1. Analyse dataset and identify variables that could affect churn rate \n",
    "2. Check relationships between churn rate and the other variables\n",
    "3. Confirm with hypotheses tests or confidence intervals\n",
    "4. Use Statistical models to determine which factors could impact sales\n",
    "\n",
    "\n",
    "__Data Source__: Kaggle Telco Customer Churn Dataset – Contains customer data like tenure, monthly charges, and churn status."
   ]
  },
  {
   "cell_type": "code",
   "execution_count": 1,
   "metadata": {},
   "outputs": [],
   "source": [
    "# Import necessary libraries\n",
    "import numpy as np\n",
    "import pandas as pd\n",
    "import matplotlib.pyplot as plt\n",
    "import seaborn as sns\n",
    "import statsmodels.api as sm\n",
    "from statsmodels.stats.outliers_influence import variance_inflation_factor\n",
    "from statsmodels.stats.weightstats import CompareMeans, DescrStatsW\n",
    "from sklearn.metrics import classification_report, accuracy_score, precision_score, recall_score, f1_score\n",
    "from statsmodels.sandbox.predict_functional import predict_functional\n",
    "from sklearn.metrics import confusion_matrix\n",
    "from IPython.display import display, Markdown\n",
    "import pickle"
   ]
  },
  {
   "cell_type": "code",
   "execution_count": 2,
   "metadata": {},
   "outputs": [],
   "source": [
    "# Load data into notebook\n",
    "data = pd.read_csv('WA_Fn-UseC_-Telco-Customer-Churn.csv')"
   ]
  },
  {
   "cell_type": "markdown",
   "metadata": {},
   "source": [
    "## __Inspect Data__"
   ]
  },
  {
   "cell_type": "markdown",
   "metadata": {},
   "source": [
    "At the beginning of our analyses, we need to view the dataset in order to have a feel of the dataset we are working with, and make necessary adjustment to make our analyses easier"
   ]
  },
  {
   "cell_type": "code",
   "execution_count": 3,
   "metadata": {},
   "outputs": [
    {
     "data": {
      "text/html": [
       "<div>\n",
       "<style scoped>\n",
       "    .dataframe tbody tr th:only-of-type {\n",
       "        vertical-align: middle;\n",
       "    }\n",
       "\n",
       "    .dataframe tbody tr th {\n",
       "        vertical-align: top;\n",
       "    }\n",
       "\n",
       "    .dataframe thead th {\n",
       "        text-align: right;\n",
       "    }\n",
       "</style>\n",
       "<table border=\"1\" class=\"dataframe\">\n",
       "  <thead>\n",
       "    <tr style=\"text-align: right;\">\n",
       "      <th></th>\n",
       "      <th>customerID</th>\n",
       "      <th>gender</th>\n",
       "      <th>SeniorCitizen</th>\n",
       "      <th>Partner</th>\n",
       "      <th>Dependents</th>\n",
       "      <th>tenure</th>\n",
       "      <th>PhoneService</th>\n",
       "      <th>MultipleLines</th>\n",
       "      <th>InternetService</th>\n",
       "      <th>OnlineSecurity</th>\n",
       "      <th>...</th>\n",
       "      <th>DeviceProtection</th>\n",
       "      <th>TechSupport</th>\n",
       "      <th>StreamingTV</th>\n",
       "      <th>StreamingMovies</th>\n",
       "      <th>Contract</th>\n",
       "      <th>PaperlessBilling</th>\n",
       "      <th>PaymentMethod</th>\n",
       "      <th>MonthlyCharges</th>\n",
       "      <th>TotalCharges</th>\n",
       "      <th>Churn</th>\n",
       "    </tr>\n",
       "  </thead>\n",
       "  <tbody>\n",
       "    <tr>\n",
       "      <th>0</th>\n",
       "      <td>7590-VHVEG</td>\n",
       "      <td>Female</td>\n",
       "      <td>0</td>\n",
       "      <td>Yes</td>\n",
       "      <td>No</td>\n",
       "      <td>1</td>\n",
       "      <td>No</td>\n",
       "      <td>No phone service</td>\n",
       "      <td>DSL</td>\n",
       "      <td>No</td>\n",
       "      <td>...</td>\n",
       "      <td>No</td>\n",
       "      <td>No</td>\n",
       "      <td>No</td>\n",
       "      <td>No</td>\n",
       "      <td>Month-to-month</td>\n",
       "      <td>Yes</td>\n",
       "      <td>Electronic check</td>\n",
       "      <td>29.85</td>\n",
       "      <td>29.85</td>\n",
       "      <td>No</td>\n",
       "    </tr>\n",
       "    <tr>\n",
       "      <th>1</th>\n",
       "      <td>5575-GNVDE</td>\n",
       "      <td>Male</td>\n",
       "      <td>0</td>\n",
       "      <td>No</td>\n",
       "      <td>No</td>\n",
       "      <td>34</td>\n",
       "      <td>Yes</td>\n",
       "      <td>No</td>\n",
       "      <td>DSL</td>\n",
       "      <td>Yes</td>\n",
       "      <td>...</td>\n",
       "      <td>Yes</td>\n",
       "      <td>No</td>\n",
       "      <td>No</td>\n",
       "      <td>No</td>\n",
       "      <td>One year</td>\n",
       "      <td>No</td>\n",
       "      <td>Mailed check</td>\n",
       "      <td>56.95</td>\n",
       "      <td>1889.5</td>\n",
       "      <td>No</td>\n",
       "    </tr>\n",
       "    <tr>\n",
       "      <th>2</th>\n",
       "      <td>3668-QPYBK</td>\n",
       "      <td>Male</td>\n",
       "      <td>0</td>\n",
       "      <td>No</td>\n",
       "      <td>No</td>\n",
       "      <td>2</td>\n",
       "      <td>Yes</td>\n",
       "      <td>No</td>\n",
       "      <td>DSL</td>\n",
       "      <td>Yes</td>\n",
       "      <td>...</td>\n",
       "      <td>No</td>\n",
       "      <td>No</td>\n",
       "      <td>No</td>\n",
       "      <td>No</td>\n",
       "      <td>Month-to-month</td>\n",
       "      <td>Yes</td>\n",
       "      <td>Mailed check</td>\n",
       "      <td>53.85</td>\n",
       "      <td>108.15</td>\n",
       "      <td>Yes</td>\n",
       "    </tr>\n",
       "    <tr>\n",
       "      <th>3</th>\n",
       "      <td>7795-CFOCW</td>\n",
       "      <td>Male</td>\n",
       "      <td>0</td>\n",
       "      <td>No</td>\n",
       "      <td>No</td>\n",
       "      <td>45</td>\n",
       "      <td>No</td>\n",
       "      <td>No phone service</td>\n",
       "      <td>DSL</td>\n",
       "      <td>Yes</td>\n",
       "      <td>...</td>\n",
       "      <td>Yes</td>\n",
       "      <td>Yes</td>\n",
       "      <td>No</td>\n",
       "      <td>No</td>\n",
       "      <td>One year</td>\n",
       "      <td>No</td>\n",
       "      <td>Bank transfer (automatic)</td>\n",
       "      <td>42.30</td>\n",
       "      <td>1840.75</td>\n",
       "      <td>No</td>\n",
       "    </tr>\n",
       "    <tr>\n",
       "      <th>4</th>\n",
       "      <td>9237-HQITU</td>\n",
       "      <td>Female</td>\n",
       "      <td>0</td>\n",
       "      <td>No</td>\n",
       "      <td>No</td>\n",
       "      <td>2</td>\n",
       "      <td>Yes</td>\n",
       "      <td>No</td>\n",
       "      <td>Fiber optic</td>\n",
       "      <td>No</td>\n",
       "      <td>...</td>\n",
       "      <td>No</td>\n",
       "      <td>No</td>\n",
       "      <td>No</td>\n",
       "      <td>No</td>\n",
       "      <td>Month-to-month</td>\n",
       "      <td>Yes</td>\n",
       "      <td>Electronic check</td>\n",
       "      <td>70.70</td>\n",
       "      <td>151.65</td>\n",
       "      <td>Yes</td>\n",
       "    </tr>\n",
       "  </tbody>\n",
       "</table>\n",
       "<p>5 rows × 21 columns</p>\n",
       "</div>"
      ],
      "text/plain": [
       "   customerID  gender  SeniorCitizen Partner Dependents  tenure PhoneService  \\\n",
       "0  7590-VHVEG  Female              0     Yes         No       1           No   \n",
       "1  5575-GNVDE    Male              0      No         No      34          Yes   \n",
       "2  3668-QPYBK    Male              0      No         No       2          Yes   \n",
       "3  7795-CFOCW    Male              0      No         No      45           No   \n",
       "4  9237-HQITU  Female              0      No         No       2          Yes   \n",
       "\n",
       "      MultipleLines InternetService OnlineSecurity  ... DeviceProtection  \\\n",
       "0  No phone service             DSL             No  ...               No   \n",
       "1                No             DSL            Yes  ...              Yes   \n",
       "2                No             DSL            Yes  ...               No   \n",
       "3  No phone service             DSL            Yes  ...              Yes   \n",
       "4                No     Fiber optic             No  ...               No   \n",
       "\n",
       "  TechSupport StreamingTV StreamingMovies        Contract PaperlessBilling  \\\n",
       "0          No          No              No  Month-to-month              Yes   \n",
       "1          No          No              No        One year               No   \n",
       "2          No          No              No  Month-to-month              Yes   \n",
       "3         Yes          No              No        One year               No   \n",
       "4          No          No              No  Month-to-month              Yes   \n",
       "\n",
       "               PaymentMethod MonthlyCharges  TotalCharges Churn  \n",
       "0           Electronic check          29.85         29.85    No  \n",
       "1               Mailed check          56.95        1889.5    No  \n",
       "2               Mailed check          53.85        108.15   Yes  \n",
       "3  Bank transfer (automatic)          42.30       1840.75    No  \n",
       "4           Electronic check          70.70        151.65   Yes  \n",
       "\n",
       "[5 rows x 21 columns]"
      ]
     },
     "execution_count": 3,
     "metadata": {},
     "output_type": "execute_result"
    }
   ],
   "source": [
    "# Inspect dataset\n",
    "data.head()"
   ]
  },
  {
   "cell_type": "code",
   "execution_count": 4,
   "metadata": {},
   "outputs": [
    {
     "data": {
      "text/plain": [
       "Index(['customerID', 'gender', 'SeniorCitizen', 'Partner', 'Dependents',\n",
       "       'tenure', 'PhoneService', 'MultipleLines', 'InternetService',\n",
       "       'OnlineSecurity', 'OnlineBackup', 'DeviceProtection', 'TechSupport',\n",
       "       'StreamingTV', 'StreamingMovies', 'Contract', 'PaperlessBilling',\n",
       "       'PaymentMethod', 'MonthlyCharges', 'TotalCharges', 'Churn'],\n",
       "      dtype='object')"
      ]
     },
     "execution_count": 4,
     "metadata": {},
     "output_type": "execute_result"
    }
   ],
   "source": [
    "# View columns to identify variables that could affect customer churn\n",
    "data.columns"
   ]
  },
  {
   "cell_type": "markdown",
   "metadata": {},
   "source": [
    "### __Variable Selection__\n",
    "\n",
    "They are various columns in the dataset, but we shall base analyses on variables or attributes that we believe should have a direct link to customer churn and they are:\n",
    "1. __Tenure__: Represents the length of time (in months) a customer has been with the company. Longer tenure might suggest greater loyalty or satisfaction, potentially reducing the likelihood of churn.\n",
    "2. __InternetService__: Indicates the type of internet service a customer subscribes to (e.g., DSL, Fiber optic, or None). Differences in service quality, speed, or pricing could affect customer satisfaction and thus impact churn rates.\n",
    "3. __Contract__: Refers to the customer’s contract type (e.g., month-to-month, one-year, two-year). Customers on shorter contracts, like month-to-month, may churn more easily since they aren’t committed long-term.\n",
    "4. __MonthlyCharges__: The amount a customer pays each month. Higher charges could lead to dissatisfaction and higher churn if customers perceive low value for their money.\n",
    "5. __TotalCharges__: The total amount a customer has paid over their tenure. This might reflect the combined effect of tenure and monthly charges, though its direct influence on churn needs exploration.\n",
    "6. __Churn__ : The outcome variable (e.g. Yes/No), showing whether a customer has left the service. This is what we’re trying to understand and predict."
   ]
  },
  {
   "cell_type": "code",
   "execution_count": 5,
   "metadata": {},
   "outputs": [
    {
     "data": {
      "text/html": [
       "<div>\n",
       "<style scoped>\n",
       "    .dataframe tbody tr th:only-of-type {\n",
       "        vertical-align: middle;\n",
       "    }\n",
       "\n",
       "    .dataframe tbody tr th {\n",
       "        vertical-align: top;\n",
       "    }\n",
       "\n",
       "    .dataframe thead th {\n",
       "        text-align: right;\n",
       "    }\n",
       "</style>\n",
       "<table border=\"1\" class=\"dataframe\">\n",
       "  <thead>\n",
       "    <tr style=\"text-align: right;\">\n",
       "      <th></th>\n",
       "      <th>tenure</th>\n",
       "      <th>InternetService</th>\n",
       "      <th>Contract</th>\n",
       "      <th>MonthlyCharges</th>\n",
       "      <th>TotalCharges</th>\n",
       "      <th>Churn</th>\n",
       "    </tr>\n",
       "  </thead>\n",
       "  <tbody>\n",
       "    <tr>\n",
       "      <th>0</th>\n",
       "      <td>1</td>\n",
       "      <td>DSL</td>\n",
       "      <td>Month-to-month</td>\n",
       "      <td>29.85</td>\n",
       "      <td>29.85</td>\n",
       "      <td>No</td>\n",
       "    </tr>\n",
       "    <tr>\n",
       "      <th>1</th>\n",
       "      <td>34</td>\n",
       "      <td>DSL</td>\n",
       "      <td>One year</td>\n",
       "      <td>56.95</td>\n",
       "      <td>1889.5</td>\n",
       "      <td>No</td>\n",
       "    </tr>\n",
       "    <tr>\n",
       "      <th>2</th>\n",
       "      <td>2</td>\n",
       "      <td>DSL</td>\n",
       "      <td>Month-to-month</td>\n",
       "      <td>53.85</td>\n",
       "      <td>108.15</td>\n",
       "      <td>Yes</td>\n",
       "    </tr>\n",
       "    <tr>\n",
       "      <th>3</th>\n",
       "      <td>45</td>\n",
       "      <td>DSL</td>\n",
       "      <td>One year</td>\n",
       "      <td>42.30</td>\n",
       "      <td>1840.75</td>\n",
       "      <td>No</td>\n",
       "    </tr>\n",
       "    <tr>\n",
       "      <th>4</th>\n",
       "      <td>2</td>\n",
       "      <td>Fiber optic</td>\n",
       "      <td>Month-to-month</td>\n",
       "      <td>70.70</td>\n",
       "      <td>151.65</td>\n",
       "      <td>Yes</td>\n",
       "    </tr>\n",
       "  </tbody>\n",
       "</table>\n",
       "</div>"
      ],
      "text/plain": [
       "   tenure InternetService        Contract  MonthlyCharges TotalCharges Churn\n",
       "0       1             DSL  Month-to-month           29.85        29.85    No\n",
       "1      34             DSL        One year           56.95       1889.5    No\n",
       "2       2             DSL  Month-to-month           53.85       108.15   Yes\n",
       "3      45             DSL        One year           42.30      1840.75    No\n",
       "4       2     Fiber optic  Month-to-month           70.70       151.65   Yes"
      ]
     },
     "execution_count": 5,
     "metadata": {},
     "output_type": "execute_result"
    }
   ],
   "source": [
    "# Focusing on hypothesized variables\n",
    "columns = ['tenure','InternetService','Contract','MonthlyCharges', 'TotalCharges', 'Churn']\n",
    "data = data[columns]\n",
    "\n",
    "data.head()"
   ]
  },
  {
   "cell_type": "code",
   "execution_count": 6,
   "metadata": {},
   "outputs": [
    {
     "name": "stderr",
     "output_type": "stream",
     "text": [
      "/var/folders/1_/wks594vd2m92nsrd4rjjy3r00000gn/T/ipykernel_8194/2871340286.py:2: FutureWarning: Downcasting behavior in `replace` is deprecated and will be removed in a future version. To retain the old behavior, explicitly call `result.infer_objects(copy=False)`. To opt-in to the future behavior, set `pd.set_option('future.no_silent_downcasting', True)`\n",
      "  data['Churn'] = data['Churn'].replace({'Yes':1,'No':0})\n"
     ]
    },
    {
     "data": {
      "text/html": [
       "<div>\n",
       "<style scoped>\n",
       "    .dataframe tbody tr th:only-of-type {\n",
       "        vertical-align: middle;\n",
       "    }\n",
       "\n",
       "    .dataframe tbody tr th {\n",
       "        vertical-align: top;\n",
       "    }\n",
       "\n",
       "    .dataframe thead th {\n",
       "        text-align: right;\n",
       "    }\n",
       "</style>\n",
       "<table border=\"1\" class=\"dataframe\">\n",
       "  <thead>\n",
       "    <tr style=\"text-align: right;\">\n",
       "      <th></th>\n",
       "      <th>tenure</th>\n",
       "      <th>InternetService</th>\n",
       "      <th>Contract</th>\n",
       "      <th>MonthlyCharges</th>\n",
       "      <th>TotalCharges</th>\n",
       "      <th>Churn</th>\n",
       "    </tr>\n",
       "  </thead>\n",
       "  <tbody>\n",
       "    <tr>\n",
       "      <th>0</th>\n",
       "      <td>1</td>\n",
       "      <td>DSL</td>\n",
       "      <td>Month-to-month</td>\n",
       "      <td>29.85</td>\n",
       "      <td>29.85</td>\n",
       "      <td>0</td>\n",
       "    </tr>\n",
       "    <tr>\n",
       "      <th>1</th>\n",
       "      <td>34</td>\n",
       "      <td>DSL</td>\n",
       "      <td>One year</td>\n",
       "      <td>56.95</td>\n",
       "      <td>1889.5</td>\n",
       "      <td>0</td>\n",
       "    </tr>\n",
       "    <tr>\n",
       "      <th>2</th>\n",
       "      <td>2</td>\n",
       "      <td>DSL</td>\n",
       "      <td>Month-to-month</td>\n",
       "      <td>53.85</td>\n",
       "      <td>108.15</td>\n",
       "      <td>1</td>\n",
       "    </tr>\n",
       "    <tr>\n",
       "      <th>3</th>\n",
       "      <td>45</td>\n",
       "      <td>DSL</td>\n",
       "      <td>One year</td>\n",
       "      <td>42.30</td>\n",
       "      <td>1840.75</td>\n",
       "      <td>0</td>\n",
       "    </tr>\n",
       "    <tr>\n",
       "      <th>4</th>\n",
       "      <td>2</td>\n",
       "      <td>Fiber optic</td>\n",
       "      <td>Month-to-month</td>\n",
       "      <td>70.70</td>\n",
       "      <td>151.65</td>\n",
       "      <td>1</td>\n",
       "    </tr>\n",
       "  </tbody>\n",
       "</table>\n",
       "</div>"
      ],
      "text/plain": [
       "   tenure InternetService        Contract  MonthlyCharges TotalCharges  Churn\n",
       "0       1             DSL  Month-to-month           29.85        29.85      0\n",
       "1      34             DSL        One year           56.95       1889.5      0\n",
       "2       2             DSL  Month-to-month           53.85       108.15      1\n",
       "3      45             DSL        One year           42.30      1840.75      0\n",
       "4       2     Fiber optic  Month-to-month           70.70       151.65      1"
      ]
     },
     "execution_count": 6,
     "metadata": {},
     "output_type": "execute_result"
    }
   ],
   "source": [
    "# Replace Churn variables with 1 and 0, they make analyses easier\n",
    "data['Churn'] = data['Churn'].replace({'Yes':1,'No':0})\n",
    "\n",
    "data.head()"
   ]
  },
  {
   "cell_type": "code",
   "execution_count": 7,
   "metadata": {},
   "outputs": [
    {
     "data": {
      "text/plain": [
       "np.int64(0)"
      ]
     },
     "execution_count": 7,
     "metadata": {},
     "output_type": "execute_result"
    }
   ],
   "source": [
    "# Checking for missing values\n",
    "data.isnull().sum().sum()"
   ]
  },
  {
   "cell_type": "code",
   "execution_count": 8,
   "metadata": {},
   "outputs": [
    {
     "data": {
      "text/plain": [
       "tenure               int64\n",
       "InternetService     object\n",
       "Contract            object\n",
       "MonthlyCharges     float64\n",
       "TotalCharges        object\n",
       "Churn                int64\n",
       "dtype: object"
      ]
     },
     "execution_count": 8,
     "metadata": {},
     "output_type": "execute_result"
    }
   ],
   "source": [
    "# Checking data types\n",
    "data.dtypes"
   ]
  },
  {
   "cell_type": "code",
   "execution_count": 9,
   "metadata": {},
   "outputs": [
    {
     "data": {
      "text/plain": [
       "(7043, 6)"
      ]
     },
     "execution_count": 9,
     "metadata": {},
     "output_type": "execute_result"
    }
   ],
   "source": [
    "# Checking shape of new dataset\n",
    "data.shape"
   ]
  },
  {
   "cell_type": "markdown",
   "metadata": {},
   "source": [
    "## __Descriptive Data Analyses__"
   ]
  },
  {
   "cell_type": "markdown",
   "metadata": {},
   "source": [
    "After inspecting the dataset and reducing it to include variables that we believe directly affect customer churn, we shall conduct exploratory Descriptive analyses in order to find patterns within the variables and view relationships between variables and churn rate. "
   ]
  },
  {
   "cell_type": "markdown",
   "metadata": {},
   "source": [
    "### __1. Tenure__"
   ]
  },
  {
   "cell_type": "markdown",
   "metadata": {},
   "source": [
    "This tells us how long a customer has spent at Telco, let us analyse this variable for a potential relationship between tenure and churn rate"
   ]
  },
  {
   "cell_type": "code",
   "execution_count": 10,
   "metadata": {},
   "outputs": [
    {
     "data": {
      "text/plain": [
       "count    7043.000000\n",
       "mean       32.371149\n",
       "std        24.559481\n",
       "min         0.000000\n",
       "25%         9.000000\n",
       "50%        29.000000\n",
       "75%        55.000000\n",
       "max        72.000000\n",
       "Name: tenure, dtype: float64"
      ]
     },
     "execution_count": 10,
     "metadata": {},
     "output_type": "execute_result"
    }
   ],
   "source": [
    "# Data summary of Tenure variable\n",
    "data['tenure'].describe()"
   ]
  },
  {
   "cell_type": "code",
   "execution_count": 11,
   "metadata": {},
   "outputs": [
    {
     "data": {
      "text/plain": [
       "<Axes: xlabel='tenure', ylabel='Count'>"
      ]
     },
     "execution_count": 11,
     "metadata": {},
     "output_type": "execute_result"
    },
    {
     "data": {
      "image/png": "[encoded data removed]",
      "text/plain": [
       "<Figure size 640x480 with 1 Axes>"
      ]
     },
     "metadata": {},
     "output_type": "display_data"
    }
   ],
   "source": [
    "# Viewing tenure distribution in a histogram\n",
    "sns.histplot(data['tenure'],kde='True')"
   ]
  },
  {
   "cell_type": "markdown",
   "metadata": {},
   "source": [
    "<u>Summary of Histogram Analysis</u>\n",
    "\n",
    "The distribution of the tenure of Telco customers is bimodal with prominent peaks at the very low end around 0 to 5 months, and at the high end around 68 to 72 months. It's tails very slightly extend to the right making it a bimodal slightly right skewed distribution with most of its data between 9 and 55 months, a range of roughly 46 months with no noted outliers. The overall median is 29 months, suggesting a central tendency influenced by the lower peak\n",
    "\n",
    "Next, lets relate it to churn"
   ]
  },
  {
   "cell_type": "code",
   "execution_count": 12,
   "metadata": {},
   "outputs": [
    {
     "name": "stdout",
     "output_type": "stream",
     "text": [
      "Summary statistics for customers that didnt churn\n"
     ]
    },
    {
     "data": {
      "text/plain": [
       "count    5174.000000\n",
       "mean       37.569965\n",
       "std        24.113777\n",
       "min         0.000000\n",
       "25%        15.000000\n",
       "50%        38.000000\n",
       "75%        61.000000\n",
       "max        72.000000\n",
       "Name: tenure, dtype: float64"
      ]
     },
     "execution_count": 12,
     "metadata": {},
     "output_type": "execute_result"
    }
   ],
   "source": [
    "print('Summary statistics for customers that didnt churn')\n",
    "data['tenure'][data['Churn']==0].describe()"
   ]
  },
  {
   "cell_type": "code",
   "execution_count": 13,
   "metadata": {},
   "outputs": [
    {
     "name": "stdout",
     "output_type": "stream",
     "text": [
      "Summary statistics for customers that churned\n"
     ]
    },
    {
     "data": {
      "text/plain": [
       "count    1869.000000\n",
       "mean       17.979133\n",
       "std        19.531123\n",
       "min         1.000000\n",
       "25%         2.000000\n",
       "50%        10.000000\n",
       "75%        29.000000\n",
       "max        72.000000\n",
       "Name: tenure, dtype: float64"
      ]
     },
     "execution_count": 13,
     "metadata": {},
     "output_type": "execute_result"
    }
   ],
   "source": [
    "print('Summary statistics for customers that churned')\n",
    "data['tenure'][data['Churn']==1].describe()"
   ]
  },
  {
   "cell_type": "code",
   "execution_count": 14,
   "metadata": {},
   "outputs": [
    {
     "data": {
      "text/plain": [
       "np.float64(19.59083198434449)"
      ]
     },
     "execution_count": 14,
     "metadata": {},
     "output_type": "execute_result"
    }
   ],
   "source": [
    "# Mean tenure difference between churners and non_churners\n",
    "data['tenure'][data['Churn']==0].mean() - data['tenure'][data['Churn']==1].mean()"
   ]
  },
  {
   "cell_type": "markdown",
   "metadata": {},
   "source": [
    "From our EDA, the mean tenure difference between non-churners and churners is 19.59 months. This hints that churners spend a lot less months than non-churners, highlighting the need for customer retention strategies."
   ]
  },
  {
   "cell_type": "markdown",
   "metadata": {},
   "source": [
    "Meanwhile, for the analyses of tenure, tenure is quantitative data representing the months of the year, therefore to analyze it, we first put it into bins of 12 months with each bin representing a year"
   ]
  },
  {
   "cell_type": "code",
   "execution_count": 15,
   "metadata": {},
   "outputs": [
    {
     "data": {
      "text/plain": [
       "tenuregrp\n",
       "0-1 Year     2186\n",
       "5-6 Years    1407\n",
       "1-2 Years    1024\n",
       "2-3 Years     832\n",
       "4-5 Years     832\n",
       "3-4 Years     762\n",
       "Name: count, dtype: int64"
      ]
     },
     "execution_count": 15,
     "metadata": {},
     "output_type": "execute_result"
    }
   ],
   "source": [
    "bins = [0, 12, 24, 36, 48, 60, 72]\n",
    "labels = ['0-1 Year', '1-2 Years', '2-3 Years', '3-4 Years', '4-5 Years', '5-6 Years']\n",
    "data['tenuregrp'] = pd.cut(data['tenure'],bins=bins,labels=labels, include_lowest=True)\n",
    "# Frequency table\n",
    "data['tenuregrp'].value_counts()"
   ]
  },
  {
   "cell_type": "code",
   "execution_count": 16,
   "metadata": {},
   "outputs": [
    {
     "data": {
      "image/png": "[encoded data removed]",
      "text/plain": [
       "<Figure size 1000x600 with 1 Axes>"
      ]
     },
     "metadata": {},
     "output_type": "display_data"
    }
   ],
   "source": [
    "# View the relationship in a bar chart\n",
    "plt.figure(figsize=(10, 6))\n",
    "sns.countplot(x='tenuregrp', data=data, order=labels)\n",
    "plt.title('Distribution of Customers by Tenure Group')\n",
    "plt.xlabel('Tenure Group')\n",
    "plt.ylabel('Count')\n",
    "plt.xticks(rotation=45)\n",
    "plt.show()"
   ]
  },
  {
   "cell_type": "markdown",
   "metadata": {},
   "source": [
    "This shows that they have most customers that have 0-1 tenure, then the second most are those that have 5-6 years tenure, now lets see how this affects the churn rate "
   ]
  },
  {
   "cell_type": "code",
   "execution_count": 17,
   "metadata": {},
   "outputs": [
    {
     "data": {
      "text/html": [
       "<div>\n",
       "<style scoped>\n",
       "    .dataframe tbody tr th:only-of-type {\n",
       "        vertical-align: middle;\n",
       "    }\n",
       "\n",
       "    .dataframe tbody tr th {\n",
       "        vertical-align: top;\n",
       "    }\n",
       "\n",
       "    .dataframe thead th {\n",
       "        text-align: right;\n",
       "    }\n",
       "</style>\n",
       "<table border=\"1\" class=\"dataframe\">\n",
       "  <thead>\n",
       "    <tr style=\"text-align: right;\">\n",
       "      <th>Churn</th>\n",
       "      <th>0</th>\n",
       "      <th>1</th>\n",
       "    </tr>\n",
       "    <tr>\n",
       "      <th>tenuregrp</th>\n",
       "      <th></th>\n",
       "      <th></th>\n",
       "    </tr>\n",
       "  </thead>\n",
       "  <tbody>\n",
       "    <tr>\n",
       "      <th>0-1 Year</th>\n",
       "      <td>0.525618</td>\n",
       "      <td>0.474382</td>\n",
       "    </tr>\n",
       "    <tr>\n",
       "      <th>1-2 Years</th>\n",
       "      <td>0.712891</td>\n",
       "      <td>0.287109</td>\n",
       "    </tr>\n",
       "    <tr>\n",
       "      <th>2-3 Years</th>\n",
       "      <td>0.783654</td>\n",
       "      <td>0.216346</td>\n",
       "    </tr>\n",
       "    <tr>\n",
       "      <th>3-4 Years</th>\n",
       "      <td>0.809711</td>\n",
       "      <td>0.190289</td>\n",
       "    </tr>\n",
       "    <tr>\n",
       "      <th>4-5 Years</th>\n",
       "      <td>0.855769</td>\n",
       "      <td>0.144231</td>\n",
       "    </tr>\n",
       "    <tr>\n",
       "      <th>5-6 Years</th>\n",
       "      <td>0.933902</td>\n",
       "      <td>0.066098</td>\n",
       "    </tr>\n",
       "  </tbody>\n",
       "</table>\n",
       "</div>"
      ],
      "text/plain": [
       "Churn             0         1\n",
       "tenuregrp                    \n",
       "0-1 Year   0.525618  0.474382\n",
       "1-2 Years  0.712891  0.287109\n",
       "2-3 Years  0.783654  0.216346\n",
       "3-4 Years  0.809711  0.190289\n",
       "4-5 Years  0.855769  0.144231\n",
       "5-6 Years  0.933902  0.066098"
      ]
     },
     "execution_count": 17,
     "metadata": {},
     "output_type": "execute_result"
    }
   ],
   "source": [
    "tenuregrp_crosstab = pd.crosstab(data['tenuregrp'],data['Churn'])\n",
    "tenuregrp_crosstab = tenuregrp_crosstab.apply(lambda x: x/x.sum(),axis=1)\n",
    "tenuregrp_crosstab"
   ]
  },
  {
   "cell_type": "code",
   "execution_count": 18,
   "metadata": {},
   "outputs": [
    {
     "data": {
      "image/png": "[encoded data removed]",
      "text/plain": [
       "<Figure size 600x800 with 1 Axes>"
      ]
     },
     "metadata": {},
     "output_type": "display_data"
    },
    {
     "data": {
      "text/plain": [
       "<Figure size 640x480 with 0 Axes>"
      ]
     },
     "metadata": {},
     "output_type": "display_data"
    }
   ],
   "source": [
    "# Plotting the tenure groups by their percentage churn\n",
    "churn_rate = tenuregrp_crosstab[1]*100 # taking to percentage \n",
    "\n",
    "plt.figure(figsize=(6,8))\n",
    "churn_rate.plot(kind='bar')\n",
    "plt.title('Churn Rate by Tenure Group (%)')\n",
    "plt.xlabel('Tenure Group')\n",
    "plt.ylabel('Churn Rate (%)')\n",
    "plt.xticks(rotation=45)\n",
    "plt.show()\n",
    "\n",
    "# For slides reporting \n",
    "plt.savefig(\"assets/Churn Rate by Tenure Group (%).png\", bbox_inches=\"tight\")"
   ]
  },
  {
   "cell_type": "markdown",
   "metadata": {},
   "source": [
    "__Findings__: From the plot above, we see a clear relationship between Churn and Tenure. Churn decreases with tenure"
   ]
  },
  {
   "cell_type": "markdown",
   "metadata": {},
   "source": [
    "### __2. Internet Service__"
   ]
  },
  {
   "cell_type": "markdown",
   "metadata": {},
   "source": [
    "This indicates the type of internet quality. To analyze this data, we must see the relationship between the types of internet services and the churn"
   ]
  },
  {
   "cell_type": "code",
   "execution_count": 19,
   "metadata": {},
   "outputs": [
    {
     "data": {
      "text/plain": [
       "InternetService\n",
       "Fiber optic    3096\n",
       "DSL            2421\n",
       "No             1526\n",
       "Name: count, dtype: int64"
      ]
     },
     "execution_count": 19,
     "metadata": {},
     "output_type": "execute_result"
    }
   ],
   "source": [
    "# View the number of customers for eavh of the different internet service options\n",
    "data['InternetService'].value_counts()"
   ]
  },
  {
   "cell_type": "code",
   "execution_count": 20,
   "metadata": {},
   "outputs": [
    {
     "data": {
      "image/png": "[encoded data removed]",
      "text/plain": [
       "<Figure size 800x1000 with 1 Axes>"
      ]
     },
     "metadata": {},
     "output_type": "display_data"
    }
   ],
   "source": [
    "# View this in a bar chart\n",
    "plt.figure(figsize=(8,10))\n",
    "sns.countplot(x=data['InternetService'],data=data)\n",
    "plt.title('Count of members using each Internet Service category')\n",
    "plt.xlabel('Internet Service Category')\n",
    "plt.ylabel('Count')\n",
    "plt.show()"
   ]
  },
  {
   "cell_type": "markdown",
   "metadata": {},
   "source": [
    "From this visual representation, it is seen that most customers use the fibre optic internet service with over 3000 users, second most customers the DSL with just shy of 2500 users with just about 1500 customers using none.\n",
    "\n",
    "Next we relate this to the churn to see if we'll see a pattern "
   ]
  },
  {
   "cell_type": "code",
   "execution_count": 21,
   "metadata": {},
   "outputs": [
    {
     "data": {
      "text/html": [
       "<div>\n",
       "<style scoped>\n",
       "    .dataframe tbody tr th:only-of-type {\n",
       "        vertical-align: middle;\n",
       "    }\n",
       "\n",
       "    .dataframe tbody tr th {\n",
       "        vertical-align: top;\n",
       "    }\n",
       "\n",
       "    .dataframe thead th {\n",
       "        text-align: right;\n",
       "    }\n",
       "</style>\n",
       "<table border=\"1\" class=\"dataframe\">\n",
       "  <thead>\n",
       "    <tr style=\"text-align: right;\">\n",
       "      <th>Churn</th>\n",
       "      <th>0</th>\n",
       "      <th>1</th>\n",
       "    </tr>\n",
       "    <tr>\n",
       "      <th>InternetService</th>\n",
       "      <th></th>\n",
       "      <th></th>\n",
       "    </tr>\n",
       "  </thead>\n",
       "  <tbody>\n",
       "    <tr>\n",
       "      <th>DSL</th>\n",
       "      <td>0.810409</td>\n",
       "      <td>0.189591</td>\n",
       "    </tr>\n",
       "    <tr>\n",
       "      <th>Fiber optic</th>\n",
       "      <td>0.581072</td>\n",
       "      <td>0.418928</td>\n",
       "    </tr>\n",
       "    <tr>\n",
       "      <th>No</th>\n",
       "      <td>0.925950</td>\n",
       "      <td>0.074050</td>\n",
       "    </tr>\n",
       "  </tbody>\n",
       "</table>\n",
       "</div>"
      ],
      "text/plain": [
       "Churn                   0         1\n",
       "InternetService                    \n",
       "DSL              0.810409  0.189591\n",
       "Fiber optic      0.581072  0.418928\n",
       "No               0.925950  0.074050"
      ]
     },
     "execution_count": 21,
     "metadata": {},
     "output_type": "execute_result"
    }
   ],
   "source": [
    "# view tabular relationship between churn rate and the different types of internet services\n",
    "InternetService_crosstab = pd.crosstab(data['InternetService'],data['Churn'])\n",
    "InternetService_crosstab = InternetService_crosstab.apply(lambda x:x/x.sum(), axis=1)\n",
    "InternetService_crosstab"
   ]
  },
  {
   "cell_type": "code",
   "execution_count": 22,
   "metadata": {},
   "outputs": [
    {
     "data": {
      "image/png": "[encoded data removed]",
      "text/plain": [
       "<Figure size 600x800 with 1 Axes>"
      ]
     },
     "metadata": {},
     "output_type": "display_data"
    },
    {
     "data": {
      "text/plain": [
       "<Figure size 640x480 with 0 Axes>"
      ]
     },
     "metadata": {},
     "output_type": "display_data"
    }
   ],
   "source": [
    "# Converting churn rate to percentage\n",
    "churn_rate2 = InternetService_crosstab[1] * 100\n",
    "# Plotting the Internet Service categories by their percentage churn\n",
    "plt.figure(figsize=(6,8))\n",
    "churn_rate2.plot(kind='bar')\n",
    "plt.title('Churn Rate by Internet Service Category (%)')\n",
    "plt.xlabel('Internet Service Category')\n",
    "plt.ylabel('Churn Rate (%)')\n",
    "plt.xticks(rotation=45)\n",
    "plt.show()\n",
    "\n",
    "# For slides reporting \n",
    "plt.savefig(\"assets/Churn Rate by Internet Service Category (%).png\", bbox_inches=\"tight\")"
   ]
  },
  {
   "cell_type": "markdown",
   "metadata": {},
   "source": [
    "__Findings__: Based on a descriptive analysis of 7,043 customers, Fibre optic internet service users exhibit the highest churn rate at 41.9%, followed by DSL users at 19.0%, while customers with no internet service have the lowest churn rate at 7.4%. This suggests a potential link between service type and churn, warranting further investigation."
   ]
  },
  {
   "cell_type": "markdown",
   "metadata": {},
   "source": [
    "### __Contract__"
   ]
  },
  {
   "cell_type": "markdown",
   "metadata": {},
   "source": [
    "This refers to the customer’s contract type (e.g., month-to-month, one-year, two-year). Let us see the relationship between contract types and customer churn"
   ]
  },
  {
   "cell_type": "code",
   "execution_count": 23,
   "metadata": {},
   "outputs": [
    {
     "data": {
      "text/plain": [
       "Contract\n",
       "Month-to-month    3875\n",
       "Two year          1695\n",
       "One year          1473\n",
       "Name: count, dtype: int64"
      ]
     },
     "execution_count": 23,
     "metadata": {},
     "output_type": "execute_result"
    }
   ],
   "source": [
    "# View the number of customers for eavh of the different contract types\n",
    "data['Contract'].value_counts()"
   ]
  },
  {
   "cell_type": "code",
   "execution_count": 24,
   "metadata": {},
   "outputs": [
    {
     "data": {
      "image/png": "[encoded data removed]",
      "text/plain": [
       "<Figure size 800x1000 with 1 Axes>"
      ]
     },
     "metadata": {},
     "output_type": "display_data"
    }
   ],
   "source": [
    "# View this in a bar chart\n",
    "plt.figure(figsize=(8,10))\n",
    "sns.countplot(x=data['Contract'],data=data)\n",
    "plt.title('Count of members using Contract types')\n",
    "plt.xlabel('Contract types')\n",
    "plt.ylabel('Count')\n",
    "plt.show()"
   ]
  },
  {
   "cell_type": "markdown",
   "metadata": {},
   "source": [
    "From the countplot above, telco customers subscribed to month-to-month contract type more than both one-year and two-year contract types combined with 3,875 customers using the month-to-month contract types, and 1695 and 1473 customers using the one-year and two-year contract types respectively \n",
    "\n",
    "Next we relate this to the churn to see if we'll see a pattern "
   ]
  },
  {
   "cell_type": "code",
   "execution_count": 25,
   "metadata": {},
   "outputs": [
    {
     "data": {
      "text/html": [
       "<div>\n",
       "<style scoped>\n",
       "    .dataframe tbody tr th:only-of-type {\n",
       "        vertical-align: middle;\n",
       "    }\n",
       "\n",
       "    .dataframe tbody tr th {\n",
       "        vertical-align: top;\n",
       "    }\n",
       "\n",
       "    .dataframe thead th {\n",
       "        text-align: right;\n",
       "    }\n",
       "</style>\n",
       "<table border=\"1\" class=\"dataframe\">\n",
       "  <thead>\n",
       "    <tr style=\"text-align: right;\">\n",
       "      <th>Churn</th>\n",
       "      <th>0</th>\n",
       "      <th>1</th>\n",
       "    </tr>\n",
       "    <tr>\n",
       "      <th>Contract</th>\n",
       "      <th></th>\n",
       "      <th></th>\n",
       "    </tr>\n",
       "  </thead>\n",
       "  <tbody>\n",
       "    <tr>\n",
       "      <th>Month-to-month</th>\n",
       "      <td>0.572903</td>\n",
       "      <td>0.427097</td>\n",
       "    </tr>\n",
       "    <tr>\n",
       "      <th>One year</th>\n",
       "      <td>0.887305</td>\n",
       "      <td>0.112695</td>\n",
       "    </tr>\n",
       "    <tr>\n",
       "      <th>Two year</th>\n",
       "      <td>0.971681</td>\n",
       "      <td>0.028319</td>\n",
       "    </tr>\n",
       "  </tbody>\n",
       "</table>\n",
       "</div>"
      ],
      "text/plain": [
       "Churn                  0         1\n",
       "Contract                          \n",
       "Month-to-month  0.572903  0.427097\n",
       "One year        0.887305  0.112695\n",
       "Two year        0.971681  0.028319"
      ]
     },
     "execution_count": 25,
     "metadata": {},
     "output_type": "execute_result"
    }
   ],
   "source": [
    "# view tabular relationship between churn rate and the different types of contracts\n",
    "Contract_tab = pd.crosstab(data['Contract'],data['Churn'])\n",
    "Contract_tab = Contract_tab.apply(lambda x: x/x.sum(),axis=1)\n",
    "Contract_tab"
   ]
  },
  {
   "cell_type": "code",
   "execution_count": 27,
   "metadata": {},
   "outputs": [
    {
     "data": {
      "image/png": "[encoded data removed]",
      "text/plain": [
       "<Figure size 600x800 with 1 Axes>"
      ]
     },
     "metadata": {},
     "output_type": "display_data"
    },
    {
     "data": {
      "text/plain": [
       "<Figure size 640x480 with 0 Axes>"
      ]
     },
     "metadata": {},
     "output_type": "display_data"
    }
   ],
   "source": [
    "# Converting churn rate to percentage\n",
    "churn_rate3 = Contract_tab[1] * 100\n",
    "# Plotting the Contract types by their percentage churn\n",
    "plt.figure(figsize=(6,8))\n",
    "churn_rate3.plot(kind='bar')\n",
    "plt.title('Churn Rate by Contract type (%)')\n",
    "plt.xlabel('Contract type')\n",
    "plt.ylabel('Churn Rate (%)')\n",
    "plt.xticks(rotation=45)\n",
    "plt.show()\n",
    "\n",
    "# For slides reporting \n",
    "plt.savefig(\"assets/Churn Rate by Contract type (%).png\", bbox_inches=\"tight\")"
   ]
  },
  {
   "cell_type": "markdown",
   "metadata": {},
   "source": [
    "__Findings__: Based on a descriptive analysis of 7,043 customers, month-to-month contract type subscribers exhibit by far the highest churn rate at 42.7%, followed by one-year contract type subscribers at 11.3%, while customers with two-year contracts have the lowest churn rate of just 2.8%. This suggests there might be a relationship between contract type and churn, warranting further investigation."
   ]
  },
  {
   "cell_type": "markdown",
   "metadata": {},
   "source": [
    "### __Monthly Charges__"
   ]
  },
  {
   "cell_type": "markdown",
   "metadata": {},
   "source": [
    "This refers to the amount a customer pays each month. Let us investgate if theres an association between monthly charges and churn"
   ]
  },
  {
   "cell_type": "code",
   "execution_count": 28,
   "metadata": {},
   "outputs": [
    {
     "data": {
      "text/plain": [
       "count    7043.000000\n",
       "mean       64.761692\n",
       "std        30.090047\n",
       "min        18.250000\n",
       "25%        35.500000\n",
       "50%        70.350000\n",
       "75%        89.850000\n",
       "max       118.750000\n",
       "Name: MonthlyCharges, dtype: float64"
      ]
     },
     "execution_count": 28,
     "metadata": {},
     "output_type": "execute_result"
    }
   ],
   "source": [
    "# Distribution of monthly charges\n",
    "data['MonthlyCharges'].describe()"
   ]
  },
  {
   "cell_type": "code",
   "execution_count": 29,
   "metadata": {},
   "outputs": [
    {
     "data": {
      "text/plain": [
       "<Axes: xlabel='MonthlyCharges', ylabel='Count'>"
      ]
     },
     "execution_count": 29,
     "metadata": {},
     "output_type": "execute_result"
    },
    {
     "data": {
      "image/png": "[encoded data removed]",
      "text/plain": [
       "<Figure size 640x480 with 1 Axes>"
      ]
     },
     "metadata": {},
     "output_type": "display_data"
    }
   ],
   "source": [
    "# View distribution in a histogram\n",
    "sns.histplot(data['MonthlyCharges'],kde=True)"
   ]
  },
  {
   "cell_type": "markdown",
   "metadata": {},
   "source": [
    "<u>Summary of Histogram Analysis</u>\n",
    "\n",
    "The distribution of the Telco monthly charges is bimodal with a prominent peak at the very low end around $18 to $22  and a more spread peak around $70 to $100. It's tails also extend to the right making it a bimodal right skewed distribution with most of its data between $35.5 and $89.9, a range of roughly $54.4 with no noted outliers. The overall median is $70.35, suggesting a central tendency influenced by the higher peak\n",
    "\n",
    "Next, lets relate it to churn"
   ]
  },
  {
   "cell_type": "code",
   "execution_count": 30,
   "metadata": {},
   "outputs": [
    {
     "name": "stdout",
     "output_type": "stream",
     "text": [
      "Summary statistics for customers that didnt churn\n"
     ]
    },
    {
     "data": {
      "text/plain": [
       "count    5174.000000\n",
       "mean       61.265124\n",
       "std        31.092648\n",
       "min        18.250000\n",
       "25%        25.100000\n",
       "50%        64.425000\n",
       "75%        88.400000\n",
       "max       118.750000\n",
       "Name: MonthlyCharges, dtype: float64"
      ]
     },
     "execution_count": 30,
     "metadata": {},
     "output_type": "execute_result"
    }
   ],
   "source": [
    "print('Summary statistics for customers that didnt churn')\n",
    "data['MonthlyCharges'][data['Churn']==0].describe()"
   ]
  },
  {
   "cell_type": "code",
   "execution_count": 31,
   "metadata": {},
   "outputs": [
    {
     "name": "stdout",
     "output_type": "stream",
     "text": [
      "Summary statistics for customers that churned\n"
     ]
    },
    {
     "data": {
      "text/plain": [
       "count    1869.000000\n",
       "mean       74.441332\n",
       "std        24.666053\n",
       "min        18.850000\n",
       "25%        56.150000\n",
       "50%        79.650000\n",
       "75%        94.200000\n",
       "max       118.350000\n",
       "Name: MonthlyCharges, dtype: float64"
      ]
     },
     "execution_count": 31,
     "metadata": {},
     "output_type": "execute_result"
    }
   ],
   "source": [
    "print('Summary statistics for customers that churned')\n",
    "data['MonthlyCharges'][data['Churn']==1].describe()"
   ]
  },
  {
   "cell_type": "code",
   "execution_count": 32,
   "metadata": {},
   "outputs": [
    {
     "data": {
      "text/plain": [
       "np.float64(13.176208567842295)"
      ]
     },
     "execution_count": 32,
     "metadata": {},
     "output_type": "execute_result"
    }
   ],
   "source": [
    "# To get mean difference \n",
    "data['MonthlyCharges'][data['Churn']==1].mean()-data['MonthlyCharges'][data['Churn']==0].mean()"
   ]
  },
  {
   "cell_type": "markdown",
   "metadata": {},
   "source": [
    "From our EDA, the mean monthly charge difference between non-churners and churners is -$13.17. This hints that churners spend a more than non-churners on monthly charges, highlighting the need for monthly charge incentives."
   ]
  },
  {
   "cell_type": "code",
   "execution_count": 33,
   "metadata": {},
   "outputs": [
    {
     "data": {
      "image/png": "[encoded data removed]",
      "text/plain": [
       "<Figure size 640x480 with 1 Axes>"
      ]
     },
     "metadata": {},
     "output_type": "display_data"
    }
   ],
   "source": [
    "# Lets visualize this in a box plot\n",
    "sns.boxplot(x=data['Churn'],y=data['MonthlyCharges'], hue = data['Churn'])\n",
    "plt.title('Boxplot of Monthly charges per Churn of data')\n",
    "\n",
    "# For slides reporting \n",
    "plt.savefig(\"assets/Boxplot of Monthly charges per Churn of data.png\", bbox_inches=\"tight\")"
   ]
  },
  {
   "cell_type": "markdown",
   "metadata": {},
   "source": [
    "__Finding__: Comparing data from those that churned and those that didnt churn using data from their repsective summary statistics and the boxplot above, we noticed that;\n",
    "1. Churners tend to have higher monthly charges with the median charge of churners, $79.65 being higher than that of customers that did not churn at $64.43.\n",
    "2. the IQR of the churned boxplot is more concentrated at higher monthly charge values of $56.15 to $92.20 while that of the not-churned boxplot has a more spread IQR between charges $25.10 and $88.40\n",
    "\n",
    "Hence there seem to be a strong relationship between high monthly prices and churners"
   ]
  },
  {
   "cell_type": "markdown",
   "metadata": {},
   "source": [
    "### __Total Charges__"
   ]
  },
  {
   "cell_type": "markdown",
   "metadata": {},
   "source": [
    "This is the total amount a customer has paid over their tenure. Let us analyze its relationship with churn"
   ]
  },
  {
   "cell_type": "code",
   "execution_count": 34,
   "metadata": {},
   "outputs": [
    {
     "data": {
      "text/plain": [
       "count     7043\n",
       "unique    6531\n",
       "top       20.2\n",
       "freq        11\n",
       "Name: TotalCharges, dtype: object"
      ]
     },
     "execution_count": 34,
     "metadata": {},
     "output_type": "execute_result"
    }
   ],
   "source": [
    "# Distribution of Total charges\n",
    "data['TotalCharges'].describe()"
   ]
  },
  {
   "cell_type": "markdown",
   "metadata": {},
   "source": [
    "TotalCharges is treated like a non-numeric object, lets change it to a numeric data type first before analyzing"
   ]
  },
  {
   "cell_type": "code",
   "execution_count": 35,
   "metadata": {},
   "outputs": [],
   "source": [
    "data['TotalCharges'] = pd.to_numeric(data['TotalCharges'],errors = 'coerce')"
   ]
  },
  {
   "cell_type": "code",
   "execution_count": 36,
   "metadata": {},
   "outputs": [
    {
     "data": {
      "text/plain": [
       "np.int64(11)"
      ]
     },
     "execution_count": 36,
     "metadata": {},
     "output_type": "execute_result"
    }
   ],
   "source": [
    "# Checking for missing values after datatype change\n",
    "data['TotalCharges'].isna().sum()"
   ]
  },
  {
   "cell_type": "code",
   "execution_count": 37,
   "metadata": {},
   "outputs": [
    {
     "data": {
      "text/html": [
       "<div>\n",
       "<style scoped>\n",
       "    .dataframe tbody tr th:only-of-type {\n",
       "        vertical-align: middle;\n",
       "    }\n",
       "\n",
       "    .dataframe tbody tr th {\n",
       "        vertical-align: top;\n",
       "    }\n",
       "\n",
       "    .dataframe thead th {\n",
       "        text-align: right;\n",
       "    }\n",
       "</style>\n",
       "<table border=\"1\" class=\"dataframe\">\n",
       "  <thead>\n",
       "    <tr style=\"text-align: right;\">\n",
       "      <th></th>\n",
       "      <th>tenure</th>\n",
       "      <th>InternetService</th>\n",
       "      <th>Contract</th>\n",
       "      <th>MonthlyCharges</th>\n",
       "      <th>TotalCharges</th>\n",
       "      <th>Churn</th>\n",
       "      <th>tenuregrp</th>\n",
       "    </tr>\n",
       "  </thead>\n",
       "  <tbody>\n",
       "    <tr>\n",
       "      <th>488</th>\n",
       "      <td>0</td>\n",
       "      <td>DSL</td>\n",
       "      <td>Two year</td>\n",
       "      <td>52.55</td>\n",
       "      <td>NaN</td>\n",
       "      <td>0</td>\n",
       "      <td>0-1 Year</td>\n",
       "    </tr>\n",
       "    <tr>\n",
       "      <th>753</th>\n",
       "      <td>0</td>\n",
       "      <td>No</td>\n",
       "      <td>Two year</td>\n",
       "      <td>20.25</td>\n",
       "      <td>NaN</td>\n",
       "      <td>0</td>\n",
       "      <td>0-1 Year</td>\n",
       "    </tr>\n",
       "    <tr>\n",
       "      <th>936</th>\n",
       "      <td>0</td>\n",
       "      <td>DSL</td>\n",
       "      <td>Two year</td>\n",
       "      <td>80.85</td>\n",
       "      <td>NaN</td>\n",
       "      <td>0</td>\n",
       "      <td>0-1 Year</td>\n",
       "    </tr>\n",
       "    <tr>\n",
       "      <th>1082</th>\n",
       "      <td>0</td>\n",
       "      <td>No</td>\n",
       "      <td>Two year</td>\n",
       "      <td>25.75</td>\n",
       "      <td>NaN</td>\n",
       "      <td>0</td>\n",
       "      <td>0-1 Year</td>\n",
       "    </tr>\n",
       "    <tr>\n",
       "      <th>1340</th>\n",
       "      <td>0</td>\n",
       "      <td>DSL</td>\n",
       "      <td>Two year</td>\n",
       "      <td>56.05</td>\n",
       "      <td>NaN</td>\n",
       "      <td>0</td>\n",
       "      <td>0-1 Year</td>\n",
       "    </tr>\n",
       "    <tr>\n",
       "      <th>3331</th>\n",
       "      <td>0</td>\n",
       "      <td>No</td>\n",
       "      <td>Two year</td>\n",
       "      <td>19.85</td>\n",
       "      <td>NaN</td>\n",
       "      <td>0</td>\n",
       "      <td>0-1 Year</td>\n",
       "    </tr>\n",
       "    <tr>\n",
       "      <th>3826</th>\n",
       "      <td>0</td>\n",
       "      <td>No</td>\n",
       "      <td>Two year</td>\n",
       "      <td>25.35</td>\n",
       "      <td>NaN</td>\n",
       "      <td>0</td>\n",
       "      <td>0-1 Year</td>\n",
       "    </tr>\n",
       "    <tr>\n",
       "      <th>4380</th>\n",
       "      <td>0</td>\n",
       "      <td>No</td>\n",
       "      <td>Two year</td>\n",
       "      <td>20.00</td>\n",
       "      <td>NaN</td>\n",
       "      <td>0</td>\n",
       "      <td>0-1 Year</td>\n",
       "    </tr>\n",
       "    <tr>\n",
       "      <th>5218</th>\n",
       "      <td>0</td>\n",
       "      <td>No</td>\n",
       "      <td>One year</td>\n",
       "      <td>19.70</td>\n",
       "      <td>NaN</td>\n",
       "      <td>0</td>\n",
       "      <td>0-1 Year</td>\n",
       "    </tr>\n",
       "    <tr>\n",
       "      <th>6670</th>\n",
       "      <td>0</td>\n",
       "      <td>DSL</td>\n",
       "      <td>Two year</td>\n",
       "      <td>73.35</td>\n",
       "      <td>NaN</td>\n",
       "      <td>0</td>\n",
       "      <td>0-1 Year</td>\n",
       "    </tr>\n",
       "    <tr>\n",
       "      <th>6754</th>\n",
       "      <td>0</td>\n",
       "      <td>DSL</td>\n",
       "      <td>Two year</td>\n",
       "      <td>61.90</td>\n",
       "      <td>NaN</td>\n",
       "      <td>0</td>\n",
       "      <td>0-1 Year</td>\n",
       "    </tr>\n",
       "  </tbody>\n",
       "</table>\n",
       "</div>"
      ],
      "text/plain": [
       "      tenure InternetService  Contract  MonthlyCharges  TotalCharges  Churn  \\\n",
       "488        0             DSL  Two year           52.55           NaN      0   \n",
       "753        0              No  Two year           20.25           NaN      0   \n",
       "936        0             DSL  Two year           80.85           NaN      0   \n",
       "1082       0              No  Two year           25.75           NaN      0   \n",
       "1340       0             DSL  Two year           56.05           NaN      0   \n",
       "3331       0              No  Two year           19.85           NaN      0   \n",
       "3826       0              No  Two year           25.35           NaN      0   \n",
       "4380       0              No  Two year           20.00           NaN      0   \n",
       "5218       0              No  One year           19.70           NaN      0   \n",
       "6670       0             DSL  Two year           73.35           NaN      0   \n",
       "6754       0             DSL  Two year           61.90           NaN      0   \n",
       "\n",
       "     tenuregrp  \n",
       "488   0-1 Year  \n",
       "753   0-1 Year  \n",
       "936   0-1 Year  \n",
       "1082  0-1 Year  \n",
       "1340  0-1 Year  \n",
       "3331  0-1 Year  \n",
       "3826  0-1 Year  \n",
       "4380  0-1 Year  \n",
       "5218  0-1 Year  \n",
       "6670  0-1 Year  \n",
       "6754  0-1 Year  "
      ]
     },
     "execution_count": 37,
     "metadata": {},
     "output_type": "execute_result"
    }
   ],
   "source": [
    "# Viewing columns with missing Total charges values\n",
    "data[data['TotalCharges'].isna()]"
   ]
  },
  {
   "cell_type": "markdown",
   "metadata": {},
   "source": [
    "Normally the total charges should be the tenure multiplied by the monthly charges, so lets change the nan where tenure is 0 to tenure multiplied by monthly charges to aid analysis"
   ]
  },
  {
   "cell_type": "code",
   "execution_count": 38,
   "metadata": {},
   "outputs": [
    {
     "name": "stderr",
     "output_type": "stream",
     "text": [
      "/var/folders/1_/wks594vd2m92nsrd4rjjy3r00000gn/T/ipykernel_8194/1382749452.py:1: FutureWarning: ChainedAssignmentError: behaviour will change in pandas 3.0!\n",
      "You are setting values through chained assignment. Currently this works in certain cases, but when using Copy-on-Write (which will become the default behaviour in pandas 3.0) this will never work to update the original DataFrame or Series, because the intermediate object on which we are setting values will behave as a copy.\n",
      "A typical example is when you are setting values in a column of a DataFrame, like:\n",
      "\n",
      "df[\"col\"][row_indexer] = value\n",
      "\n",
      "Use `df.loc[row_indexer, \"col\"] = values` instead, to perform the assignment in a single step and ensure this keeps updating the original `df`.\n",
      "\n",
      "See the caveats in the documentation: https://pandas.pydata.org/pandas-docs/stable/user_guide/indexing.html#returning-a-view-versus-a-copy\n",
      "\n",
      "  data['TotalCharges'][data['TotalCharges'].isna()] = data['tenure'][data['TotalCharges'].isna()] * data['MonthlyCharges'][data['TotalCharges'].isna()]\n",
      "/var/folders/1_/wks594vd2m92nsrd4rjjy3r00000gn/T/ipykernel_8194/1382749452.py:1: SettingWithCopyWarning: \n",
      "A value is trying to be set on a copy of a slice from a DataFrame\n",
      "\n",
      "See the caveats in the documentation: https://pandas.pydata.org/pandas-docs/stable/user_guide/indexing.html#returning-a-view-versus-a-copy\n",
      "  data['TotalCharges'][data['TotalCharges'].isna()] = data['tenure'][data['TotalCharges'].isna()] * data['MonthlyCharges'][data['TotalCharges'].isna()]\n"
     ]
    }
   ],
   "source": [
    "data['TotalCharges'][data['TotalCharges'].isna()] = data['tenure'][data['TotalCharges'].isna()] * data['MonthlyCharges'][data['TotalCharges'].isna()]"
   ]
  },
  {
   "cell_type": "code",
   "execution_count": 39,
   "metadata": {},
   "outputs": [
    {
     "data": {
      "text/plain": [
       "np.int64(0)"
      ]
     },
     "execution_count": 39,
     "metadata": {},
     "output_type": "execute_result"
    }
   ],
   "source": [
    "# checking if our changes were effected\n",
    "data['TotalCharges'].isna().sum()"
   ]
  },
  {
   "cell_type": "code",
   "execution_count": 40,
   "metadata": {},
   "outputs": [
    {
     "data": {
      "text/plain": [
       "count    7043.000000\n",
       "mean     2279.734304\n",
       "std      2266.794470\n",
       "min         0.000000\n",
       "25%       398.550000\n",
       "50%      1394.550000\n",
       "75%      3786.600000\n",
       "max      8684.800000\n",
       "Name: TotalCharges, dtype: float64"
      ]
     },
     "execution_count": 40,
     "metadata": {},
     "output_type": "execute_result"
    }
   ],
   "source": [
    "# Now we can analyze the Total Charges column\n",
    "data['TotalCharges'].describe()"
   ]
  },
  {
   "cell_type": "code",
   "execution_count": 41,
   "metadata": {},
   "outputs": [
    {
     "data": {
      "text/plain": [
       "<Axes: xlabel='TotalCharges', ylabel='Count'>"
      ]
     },
     "execution_count": 41,
     "metadata": {},
     "output_type": "execute_result"
    },
    {
     "data": {
      "image/png": "[encoded data removed]",
      "text/plain": [
       "<Figure size 640x480 with 1 Axes>"
      ]
     },
     "metadata": {},
     "output_type": "display_data"
    }
   ],
   "source": [
    "# View distribution on histogram\n",
    "sns.histplot(data['TotalCharges'],kde=True)"
   ]
  },
  {
   "cell_type": "markdown",
   "metadata": {},
   "source": [
    "<u>Summary of Histogram Analysis</u>\n",
    "\n",
    "The distribution of the Telco total charges is unimodal with a prominent peak at the very low end around $0 to $200. It's tails also extend to the right, making it a unimodal right skewed distribution with most of its data between $398.55 and $3786.60, a range of roughly $3388.05 with no clear visual outliers. The overall median is $1394.55.\n",
    "\n",
    "Next, lets relate it to churn"
   ]
  },
  {
   "cell_type": "code",
   "execution_count": 42,
   "metadata": {},
   "outputs": [
    {
     "name": "stdout",
     "output_type": "stream",
     "text": [
      "Summary statistics for customers that didnt churn\n"
     ]
    },
    {
     "data": {
      "text/plain": [
       "count    5174.000000\n",
       "mean     2549.911442\n",
       "std      2329.954215\n",
       "min         0.000000\n",
       "25%       572.900000\n",
       "50%      1679.525000\n",
       "75%      4262.850000\n",
       "max      8672.450000\n",
       "Name: TotalCharges, dtype: float64"
      ]
     },
     "execution_count": 42,
     "metadata": {},
     "output_type": "execute_result"
    }
   ],
   "source": [
    "print('Summary statistics for customers that didnt churn')\n",
    "data['TotalCharges'][data['Churn']==0].describe()"
   ]
  },
  {
   "cell_type": "code",
   "execution_count": 43,
   "metadata": {},
   "outputs": [
    {
     "name": "stdout",
     "output_type": "stream",
     "text": [
      "Summary statistics for customers that churned\n"
     ]
    },
    {
     "data": {
      "text/plain": [
       "count    1869.000000\n",
       "mean     1531.796094\n",
       "std      1890.822994\n",
       "min        18.850000\n",
       "25%       134.500000\n",
       "50%       703.550000\n",
       "75%      2331.300000\n",
       "max      8684.800000\n",
       "Name: TotalCharges, dtype: float64"
      ]
     },
     "execution_count": 43,
     "metadata": {},
     "output_type": "execute_result"
    }
   ],
   "source": [
    "print('Summary statistics for customers that churned')\n",
    "data['TotalCharges'][data['Churn']==1].describe()"
   ]
  },
  {
   "cell_type": "code",
   "execution_count": 44,
   "metadata": {},
   "outputs": [
    {
     "data": {
      "text/plain": [
       "np.float64(1018.115347656503)"
      ]
     },
     "execution_count": 44,
     "metadata": {},
     "output_type": "execute_result"
    }
   ],
   "source": [
    "# To get mean difference \n",
    "data['TotalCharges'][data['Churn']==0].mean()-data['TotalCharges'][data['Churn']==1].mean()"
   ]
  },
  {
   "cell_type": "markdown",
   "metadata": {},
   "source": [
    "From our EDA, the mean total charge difference between non-churners and churners is $1018.11. This hints that non-churners spend a more than churners on total charges, highlighting the need for total charge incentives."
   ]
  },
  {
   "cell_type": "code",
   "execution_count": 45,
   "metadata": {},
   "outputs": [
    {
     "data": {
      "text/plain": [
       "Text(0.5, 1.0, 'Boxplot of Total charges per Churn of data')"
      ]
     },
     "execution_count": 45,
     "metadata": {},
     "output_type": "execute_result"
    },
    {
     "data": {
      "image/png": "[encoded data removed]",
      "text/plain": [
       "<Figure size 640x480 with 1 Axes>"
      ]
     },
     "metadata": {},
     "output_type": "display_data"
    }
   ],
   "source": [
    "# Lets visualize this\n",
    "sns.boxplot(x=data['Churn'],y=data['TotalCharges'], hue = data['Churn'])\n",
    "plt.title('Boxplot of Total charges per Churn of data')"
   ]
  },
  {
   "cell_type": "markdown",
   "metadata": {},
   "source": [
    "__Finding__: Comparing data from those that churned and those that didnt churn using data from their repsective summary statistics and the boxplot above, we noticed that;\n",
    "1. Churners tend to have lower total charges with the median total charge of churners, $703.55 being lower than that of customers that did not churn at $1679.52.\n",
    "2. the IQR of the churned boxplot is more concentrated at lower total charge values of $134.50 to $2331.30 with very few churners at the very high total charge values(which are outliers) while that of the not-churned boxplot has a more spread IQR between charges $572.90 and $4262.85\n",
    "\n",
    "Hence there seem to be a strong relationship between low total prices and churners"
   ]
  },
  {
   "cell_type": "markdown",
   "metadata": {},
   "source": []
  },
  {
   "cell_type": "markdown",
   "metadata": {},
   "source": [
    "## __Inferential Data Analyses__"
   ]
  },
  {
   "cell_type": "markdown",
   "metadata": {},
   "source": [
    "After the descriptive analyses, we shall conduct inferential analyses in order to confirm if our findings from the descriptive analyses are statistically significant. We shall make use of hypothesis testing to question the evidence given to us from the descriptive analyses earlier"
   ]
  },
  {
   "cell_type": "markdown",
   "metadata": {},
   "source": [
    "### __Tenure__"
   ]
  },
  {
   "cell_type": "markdown",
   "metadata": {},
   "source": [
    "__Findings__: From the bar chart, churners clearly tend to have shorter tenures than non-churners.\n",
    "\n",
    "__Question__: Is the mean tenure of churners significantly **less** than the mean tenure of non-churners?\n",
    "\n",
    "__Populations__\n",
    "1. **Group 1**: All customers who churned  \n",
    "2. **Group 2**: All customers who did **not** churn\n",
    "\n",
    "__Parameter of Interest__: Difference in population means:  \n",
    "\\[\n",
    "Δ = μ(churners) − μ(non-churners)\n",
    "\\]\n",
    "\n",
    "__Goal__: Conduct a **one-sided** independent two-sample t-test at alpha = 0.05 to determine if  \n",
    "μ(churners) < μ(non-churners)\n",
    "\n",
    "__Test__: One sided Independent two-sampled t-test (unequal variance)\n",
    "\n",
    "\n",
    "__Hypotheses__:\n",
    "\n",
    "\\begin{cases}\n",
    "H_{0}: & \\mu_{\\text{churners}} = \\mu_{\\text{non-churners}} \\quad (\\Delta = 0)\\\\\n",
    "H_{1}: & \\mu_{\\text{churners}} < \\mu_{\\text{non-churners}} \\quad (\\Delta < 0)\n",
    "\\end{cases}\n",
    "\n",
    "\n",
    "__Significance Level__: alpha = 0.05\n",
    "\n",
    "__Assumptions__\n",
    "1. Independence: Churners and non-churners are distinct groups of customers, ensuring independence.\n",
    "\n",
    "2. Normality: With large sample sizes (n_churners = 1869, n_non-churners = 5174), the Central Limit Theorem ensures the sampling distribution of the means is approximately normal, validating the t-test.\n",
    "\n",
    "3. Variances: Unequal variances are assumed, addressed using the One sided Independent two-sampled t-test (unequal variance).\n",
    "\n",
    "4. Random Sampling: Assumed that the dataset represents a random sample of Telco customers, supporting generalizability."
   ]
  },
  {
   "cell_type": "code",
   "execution_count": 46,
   "metadata": {},
   "outputs": [
    {
     "name": "stderr",
     "output_type": "stream",
     "text": [
      "/Users/apple/myenv/lib/python3.12/site-packages/statsmodels/stats/weightstats.py:135: RuntimeWarning: invalid value encountered in scalar divide\n",
      "  return self.sum / self.sum_weights\n",
      "/Users/apple/myenv/lib/python3.12/site-packages/statsmodels/stats/weightstats.py:190: RuntimeWarning: invalid value encountered in scalar divide\n",
      "  return self.sumsquares / self.sum_weights\n"
     ]
    }
   ],
   "source": [
    "Churned_tenure = data['tenure'][data['Churn']=='Yes']\n",
    "Non_churned_tenure = data['tenure'][data['Churn']=='No']\n",
    "\n",
    "Churned_tenure = sm.stats.DescrStatsW(Churned_tenure)\n",
    "Non_churned_tenure = sm.stats.DescrStatsW(Non_churned_tenure)\n",
    "\n",
    "# Independent Two-Sample t-Test\n",
    "# Compare the means\n",
    "cm = sm.stats.CompareMeans(Churned_tenure,Non_churned_tenure)\n",
    "\n",
    "# Compute the test statistic and p-value\n",
    "tstat,pval,df = cm.ttest_ind(usevar = 'unequal')\n",
    "\n",
    "# Compute 95% Confidence Interval\n",
    "ci_lower, ci_upper = cm.tconfint_diff(alpha=0.05, usevar='unequal')"
   ]
  },
  {
   "cell_type": "code",
   "execution_count": 47,
   "metadata": {},
   "outputs": [
    {
     "data": {
      "text/markdown": [
       "**Results**"
      ],
      "text/plain": [
       "<IPython.core.display.Markdown object>"
      ]
     },
     "metadata": {},
     "output_type": "display_data"
    },
    {
     "name": "stdout",
     "output_type": "stream",
     "text": [
      "Test Statistic: nan\n",
      "p-value: nan\n"
     ]
    },
    {
     "data": {
      "text/markdown": [
       "**Decision**: Since p < 0.05, we reject the null hypothesis and conclude that the mean tenure of churners is significantly **less** than that of non-churners."
      ],
      "text/plain": [
       "<IPython.core.display.Markdown object>"
      ]
     },
     "metadata": {},
     "output_type": "display_data"
    }
   ],
   "source": [
    "display(Markdown(\"**Results**\"))\n",
    "print('Test Statistic:', tstat)\n",
    "print('p-value:',pval)\n",
    "display(Markdown('**Decision**: Since p < 0.05, we reject the null hypothesis and conclude that the mean tenure of churners is significantly **less** than that of non-churners.'))"
   ]
  },
  {
   "cell_type": "code",
   "execution_count": 48,
   "metadata": {},
   "outputs": [
    {
     "name": "stdout",
     "output_type": "stream",
     "text": [
      "95% CI for difference: (nan, nan)\n"
     ]
    }
   ],
   "source": [
    "print(f\"95% CI for difference: ({ci_lower:.2f}, {ci_upper:.2f})\")"
   ]
  },
  {
   "cell_type": "markdown",
   "metadata": {},
   "source": [
    "__Practical Significance__\n",
    "1. Difference in Means: During EDA, the mean difference in tenure was calculated as -19.59 months (from np.float64(-19.59083198434449)), indicating that churners have a mean tenure approximately 19.59 months less than non-churners. The mean tenure for non-churners is 37.57 months (from np.float64(37.56996521066873)), and for churners, it is approximately 17.98 months (37.57 - 19.59), consistent with the 95% CI midpoint.\n",
    "\n",
    "2. Percentage Difference: Based on the mean tenure of non-churners (37.57 months), the 19.59-month reduction represents approximately 52.2% (19.59/37.57 × 100) lower tenure for churners.\n",
    "\n",
    "3. 95% Confidence Interval: The CI of -20.69 to -18.49 months indicates that the true difference is consistently between 18.49 and 20.69 months lower for churners, with a narrow range reflecting high precision and validating the EDA finding.\n",
    "\n",
    "4. Interpretation: \"This substantial tenure gap of 19.59 months, supported by the CI, suggests that churners leave Telco much earlier, a difference with clear implications for retention strategies.\"\n",
    "\n",
    "\n",
    "__Business Implication__\n",
    "\n",
    "The significant reduction in tenure for churners (19.59 months less, with a 95% CI of -20.69 to -18.49 months) indicates that customers who churn do so early in their subscription cycle. Telco should prioritize retention efforts within the first two years, such as offering personalized onboarding support, introductory discounts, or improved service quality to extend customer tenure and reduce churn rates."
   ]
  },
  {
   "cell_type": "markdown",
   "metadata": {},
   "source": [
    "### __Internet Service__"
   ]
  },
  {
   "cell_type": "markdown",
   "metadata": {},
   "source": [
    "__Findings__: Based on a descriptive analysis of 7,043 customers:\n",
    "1. Fibre‑optic internet service users exhibit the highest churn rate (41.9% of their 3096 customers).\n",
    "2. DSL users churn at 19.0% of their 2421 customers.\n",
    "3. Customers with no internet service have the lowest churn rate (7.4% of their 1526 customers).\n",
    "\n",
    "which shows an increase in churn rate across the different internet services in the order: no internet < DSL < fibre‑optic"
   ]
  },
  {
   "cell_type": "markdown",
   "metadata": {},
   "source": [
    "#### __Inferential Analysis 1: Fibre-optic vs DSL__\n",
    "__Question__: Is the churn rate of customers using Fibre-optic significantly **greater** than churn rate of customers using DSL?\n",
    "\n",
    "__Populations__\n",
    "1. **Group 1**: All customers using Fibre-optics\n",
    "2. **Group 2**: All customers using DSL\n",
    "\n",
    "__Parameter of Interest__: Difference in population proportions:  \n",
    "\\[\n",
    "Δ = p(Fibre-optics) − p(DSL)\n",
    "\\]\n",
    "\n",
    "__Goal__: Conduct a two-sample z-test for proportion at alpha = 0.05 to determine if  \n",
    "p(Fibre-optics) > p(DSL)\n",
    "\n",
    "__Test__: a two-sample z-test for proportion\n",
    "\n",
    "__Hypotheses__:\n",
    "\n",
    "\\begin{cases}\n",
    "H_{0}: & p_{\\text{Fibre-optic}} = p_{\\text{DSL}} \\quad (\\Delta = 0)\\\\\n",
    "H_{1}: & p_{\\text{Fibre-optic}} > p_{\\text{DSL}} \\quad (\\Delta > 0)\n",
    "\\end{cases}\n",
    "\n",
    "\n",
    "__Significance Level__: alpha = 0.05\n",
    "\n",
    "__Assumptions__\n",
    "1. Independence: Churners and non-churners are distinct groups of customers, ensuring independence.\n",
    "\n",
    "2. Normality: With large sample sizes ( n(Fibre-optic) = 3096 ), ( n_(DSL) = 2421 ) and expected successes/failures (( 3096 * 0.419 = 1297 ), ( 3096 * 0.581 = 1799 ); ( 2421 * 0.190 = 460 ), ( 2421 * 0.810 = 1961 ), all > 5), the Central Limit Theorem ensures the sampling distribution of the proportions is approximately normal, validating the z-test.\n",
    "\n",
    "3. Random Sampling: Assumed that the dataset represents a random sample of Telco customers, supporting generalizability."
   ]
  },
  {
   "cell_type": "code",
   "execution_count": 49,
   "metadata": {},
   "outputs": [
    {
     "data": {
      "text/plain": [
       "<class 'statsmodels.stats.base.HolderTuple'>\n",
       "statistic = np.float64(19.189097874231127)\n",
       "pvalue = np.float64(2.2824755450459705e-82)\n",
       "compare = 'diff'\n",
       "method = 'agresti-caffo'\n",
       "diff = np.float64(0.22899999999999998)\n",
       "ratio = np.float64(2.205263157894737)\n",
       "odds_ratio = np.float64(3.074463266600236)\n",
       "variance = np.float64(0.00014216388985807178)\n",
       "alternative = 'larger'\n",
       "value = 0\n",
       "tuple = (np.float64(19.189097874231127), np.float64(2.2824755450459705e-82))"
      ]
     },
     "execution_count": 49,
     "metadata": {},
     "output_type": "execute_result"
    }
   ],
   "source": [
    "sm.stats.test_proportions_2indep(0.419*3096,3096,0.19*2421,2421,alternative='larger')"
   ]
  },
  {
   "cell_type": "markdown",
   "metadata": {},
   "source": [
    "**Decision**: Since p < 0.05, we reject the null hypothesis and conclude that the churn rate of fibre-optic subscribers is significantly **greater** than that of DSL users."
   ]
  },
  {
   "cell_type": "code",
   "execution_count": 50,
   "metadata": {},
   "outputs": [],
   "source": [
    "# Compute the CI\n",
    "# First compute the standard errors\n",
    "se_Fibre_optics = np.sqrt(0.419 * (1 - 0.419) / 3096)\n",
    "se_DSL = np.sqrt(0.19 * (1 - 0.19) / 2421)\n",
    "\n",
    "# Find the difference between the standard errors\n",
    "se_diff = np.sqrt(se_Fibre_optics**2 + se_DSL**2)\n",
    "se_diff\n",
    "\n",
    "# Difference between means\n",
    "d = 0.419-0.19\n",
    "\n",
    "# Upper and lower confidence interval boundaries\n",
    "lcb = d - 1.96*se_diff\n",
    "ucb = d + 1.96*se_diff"
   ]
  },
  {
   "cell_type": "code",
   "execution_count": 51,
   "metadata": {},
   "outputs": [
    {
     "name": "stdout",
     "output_type": "stream",
     "text": [
      "95% CI for difference: (0.206, 0.252)\n"
     ]
    }
   ],
   "source": [
    "print(f\"95% CI for difference: ({lcb:.3f}, {ucb:.3f})\")"
   ]
  },
  {
   "cell_type": "markdown",
   "metadata": {},
   "source": [
    "__Practical Significance__\n",
    "1. Difference in Proportions: The observed difference in the proportion of customers who churned is 0.229 (calculated as 0.419 - 0.190), indicating that 22.9% more Fibre-optic users churned compared to DSL users. This is consistent with the 95% CI midpoint of approximately 0.229.\n",
    "\n",
    "2. Percentage Difference: Based on the proportion of DSL users who churned (0.190), the 0.229 difference represents an increase of approximately 120.5% ((0.419 - 0.190) / 0.190 × 100) in the churn rate for Fibre-optic users relative to DSL users.\n",
    "\n",
    "3. 95% Confidence Interval: The CI of 0.206 to 0.252 indicates that the true difference is consistently between 0.206 and 0.252 lower for DSL users, with a narrow range reflecting high precision and validating the EDA finding.\n",
    "\n",
    "4. Interpretation: This substantial proportion gap of 0.229, supported by the CI, suggests that Fibre-optic users are significantly more likely to churn than DSL users, highlighting a critical area for retention focus.\n",
    "\n",
    "\n",
    "__Business Implication__\n",
    "\n",
    "The significant difference in churn proportions, with Fibre-optic users exhibiting a 22.9% higher churn rate (95% CI of 0.206 to 0.252) compared to DSL users, indicates a substantial retention challenge for Fibre-optic customers. Telco should prioritize targeted retention strategies for Fibre-optic users, such as enhancing service quality, offering loyalty incentives, or providing tailored support to address their higher churn propensity and improve customer retention."
   ]
  },
  {
   "cell_type": "markdown",
   "metadata": {},
   "source": [
    "#### __Inferential Analysis 2: DSL vs No internet__\n",
    "__Question__: Is the churn rate of customers using Fibre-optic significantly **greater** than churn rate of customers using DSL?\n",
    "\n",
    "__Populations__\n",
    "1. **Group 1**: All customers using DSL\n",
    "2. **Group 2**: All customers using N internet\n",
    "\n",
    "__Parameter of Interest__: Difference in population proportions:  \n",
    "\\[\n",
    "Δ = p(DSL) − p(No internet)\n",
    "\\]\n",
    "\n",
    "__Goal__: Conduct a two-sample z-test for proportion at alpha = 0.05 to determine if  \n",
    "p(DSL) > p(No internet)\n",
    "\n",
    "__Test__: a two sample z-test for proportion\n",
    "\n",
    "__Hypotheses__:\n",
    "\n",
    "\\begin{cases}\n",
    "H_{0}: & p_{\\text{DSL}} = p_{\\text{No internet}} \\quad (\\Delta = 0)\\\\\n",
    "H_{1}: & p_{\\text{DSL}} > p_{\\text{No internet}} \\quad (\\Delta > 0)\n",
    "\\end{cases}\n",
    "\n",
    "\n",
    "__Significance Level__: alpha = 0.05\n",
    "\n",
    "__Assumptions__\n",
    "1. Independence: Churners and non-churners are distinct groups of customers, ensuring independence.\n",
    "\n",
    "2. Normality: With large sample sizes ( n(DSL) = 2421 ), ( n_(No internet) = 2421 ) and expected successes/failures (( 2421 * 0.19 = 460 ), ( 2421 * 0.81 = 1961 ); ( 1526 * 0.074 = 113 ), ( 1526 * 0.926 = 1413 ), all > 5), the Central Limit Theorem ensures the sampling distribution of the proportions is approximately normal, validating the z-test.\n",
    "\n",
    "3. Random Sampling: Assumed that the dataset represents a random sample of Telco customers, supporting generalizability."
   ]
  },
  {
   "cell_type": "code",
   "execution_count": 52,
   "metadata": {},
   "outputs": [
    {
     "data": {
      "text/plain": [
       "<class 'statsmodels.stats.base.HolderTuple'>\n",
       "statistic = np.float64(11.095228689852725)\n",
       "pvalue = np.float64(6.616057588697474e-29)\n",
       "compare = 'diff'\n",
       "method = 'agresti-caffo'\n",
       "diff = np.float64(0.116)\n",
       "ratio = np.float64(2.5675675675675675)\n",
       "odds_ratio = np.float64(2.935268601935269)\n",
       "variance = np.float64(0.00010873800492202113)\n",
       "alternative = 'larger'\n",
       "value = 0\n",
       "tuple = (np.float64(11.095228689852725), np.float64(6.616057588697474e-29))"
      ]
     },
     "execution_count": 52,
     "metadata": {},
     "output_type": "execute_result"
    }
   ],
   "source": [
    "sm.stats.test_proportions_2indep(0.19*2421,2421,0.074*1526,1526,alternative='larger')"
   ]
  },
  {
   "cell_type": "markdown",
   "metadata": {},
   "source": [
    "**Decision**: Since p < 0.05, we reject the null hypothesis and conclude that the churn rate of DSL subscribers is significantly **greater** than that of users with no internet service."
   ]
  },
  {
   "cell_type": "code",
   "execution_count": 53,
   "metadata": {},
   "outputs": [],
   "source": [
    "# Compute the CI\n",
    "# First compute the standard errors\n",
    "se_DSL = np.sqrt(0.19 * (1 - 0.19) / 2421)\n",
    "se_No_internet = np.sqrt(0.074 * (1 - 0.074) / 1526)\n",
    "\n",
    "# Find the difference between the standard errors\n",
    "se_diff = np.sqrt(se_No_internet**2 + se_DSL**2)\n",
    "se_diff\n",
    "\n",
    "# Difference between means\n",
    "d = 0.19-0.074\n",
    "\n",
    "# Upper and lower confidence interval boundaries\n",
    "lcb = d - 1.96*se_diff\n",
    "ucb = d + 1.96*se_diff"
   ]
  },
  {
   "cell_type": "code",
   "execution_count": 54,
   "metadata": {},
   "outputs": [
    {
     "name": "stdout",
     "output_type": "stream",
     "text": [
      "95% CI for difference: (0.096, 0.136)\n"
     ]
    }
   ],
   "source": [
    "print(f\"95% CI for difference: ({lcb:.3f}, {ucb:.3f})\")"
   ]
  },
  {
   "cell_type": "markdown",
   "metadata": {},
   "source": [
    "__Practical Significance__\n",
    "1. Difference in Proportions: The observed difference in the proportion of customers who churned is 0.116 (calculated as 0.19 - 0.074), indicating that 11.6% more DSL users churned compared to No internet users. This is consistent with the 95% CI midpoint of approximately 0.116.\n",
    "\n",
    "2. Percentage Difference: Based on the proportion of No internet users who churned (0.074), the 0.116 difference represents an increase of approximately 156.8% ((0.190 - 0.074) / 0.074 × 100) in the churn rate for DSL users relative to No internet users.\n",
    "\n",
    "3. 95% Confidence Interval: The CI of 0.096 to 0.136 indicates that the true difference is consistently between 0.096 and 0.136 higher for DSL users, with a narrow range reflecting high precision and validating the EDA finding.\n",
    "\n",
    "4. Interpretation: This substantial proportion gap of 0.116, supported by the CI, suggests that DSL users are significantly more likely to churn than No internet users, highlighting a critical area for retention focus.\n",
    "\n",
    "\n",
    "__Business Implication__\n",
    "\n",
    "The significant difference in churn proportions, with DSL users exhibiting a 11.6% higher churn rate (95% CI of 0.096, 0.136) compared to No internet users, indicates a substantial retention challenge for DSL customers. Telco should prioritize targeted retention strategies for DSL users too, such as enhancing service quality, offering loyalty incentives, or providing tailored support to address their higher churn propensity and improve customer retention."
   ]
  },
  {
   "cell_type": "markdown",
   "metadata": {},
   "source": [
    "__Overall Business Implication__\n",
    "\n",
    "The inferential analyses reveal a clear gradient in churn rates across internet services: No Internet users have the lowest churn, DSL users exhibit an 11.6% higher churn rate (95% CI 0.096 to 0.136) and a 156.8% increase compared to No Internet, and Fibre-optic users show the highest churn, with a 22.9% higher rate than DSL (95% CI 0.206 to 0.252) and a 120.5% increase over DSL. This indicates that churn propensity escalates with service intensity. Telco should adopt a tiered retention approach: maintain current low-churn support for No Internet users, enhance DSL service reliability and offer bundled promotions to address the 156.8% higher risk, and for Fibre-optic users, prioritize premium support, loyalty incentives, and quality improvements to tackle their 120.5% higher churn rate, optimizing overall customer retention."
   ]
  },
  {
   "cell_type": "markdown",
   "metadata": {},
   "source": [
    "### __Contract__"
   ]
  },
  {
   "cell_type": "markdown",
   "metadata": {},
   "source": [
    "__Findings__: Based on a descriptive analysis of 7,043 customers:\n",
    "1. Month-to-month contract type subscribers exhibit by far the highest churn rate at 42.7%(n = 3875).\n",
    "2. One-year contract type subscribers churn at 11.3%(n = 1473).\n",
    "3. Two-year contracts have the lowest churn rate of just 2.8%(n = 1695)\n",
    "\n",
    "which shows an decrease in churn rate across the different contract types in the order: month-to-month > one-year > two-year"
   ]
  },
  {
   "cell_type": "markdown",
   "metadata": {},
   "source": [
    "#### __Inferential Analysis 1: Month-to-month vs One-year__\n",
    "__Question__: Is the churn rate of customers subsribed to Month-to-month contracts significantly **greater** than churn rate of customers subsribed to One-year contracts?\n",
    "\n",
    "__Populations__\n",
    "1. **Group 1**: All customers using Month-to-month contracts\n",
    "2. **Group 2**: All customers using One-year contracts\n",
    "\n",
    "__Parameter of Interest__: Difference in population proportions:  \n",
    "\\[\n",
    "Δ = p(Month-to-month) − p(One-year)\n",
    "\\]\n",
    "\n",
    "__Goal__: Conduct a two-sample z-test for proportion at alpha = 0.05 to determine if  \n",
    "p(Month-to-month) > p(One-year)\n",
    "\n",
    "__Test__: a two sample z-test for proportion\n",
    "\n",
    "__Hypotheses__:\n",
    "\n",
    "\\begin{cases}\n",
    "H_{0}: & p_{\\text{Month-to-month}} = p_{\\text{One-year}} \\quad (\\Delta = 0)\\\\\n",
    "H_{1}: & p_{\\text{Month-to-month}} > p_{\\text{One-year}} \\quad (\\Delta > 0)\n",
    "\\end{cases}\n",
    "\n",
    "\n",
    "__Significance Level__: alpha = 0.05\n",
    "\n",
    "__Assumptions__\n",
    "1. Independence: Churners and non-churners are distinct groups of customers, ensuring independence.\n",
    "\n",
    "2. Normality: With large sample sizes ( n(Month-to-month) = 3875 ), ( n_(One-year) = 1473 ) and expected successes/failures (( 3875 * 0.427 = 1655 ), ( 3875 * 0.573 = 2220 ); ( 1473 * 0.113 = 166 ), ( 1473 * 0.887 = 1307 ), all > 5), the Central Limit Theorem ensures the sampling distribution of the proportions is approximately normal, validating the z-test.\n",
    "\n",
    "3. Random Sampling: Assumed that the dataset represents a random sample of Telco customers, supporting generalizability."
   ]
  },
  {
   "cell_type": "code",
   "execution_count": 55,
   "metadata": {},
   "outputs": [
    {
     "data": {
      "text/plain": [
       "<class 'statsmodels.stats.base.HolderTuple'>\n",
       "statistic = np.float64(27.356466454096864)\n",
       "pvalue = np.float64(4.523059555920577e-165)\n",
       "compare = 'diff'\n",
       "method = 'agresti-caffo'\n",
       "diff = np.float64(0.314)\n",
       "ratio = np.float64(3.7787610619469025)\n",
       "odds_ratio = np.float64(5.849495745108032)\n",
       "variance = np.float64(0.00013133814071280734)\n",
       "alternative = 'larger'\n",
       "value = 0\n",
       "tuple = (np.float64(27.356466454096864), np.float64(4.523059555920577e-165))"
      ]
     },
     "execution_count": 55,
     "metadata": {},
     "output_type": "execute_result"
    }
   ],
   "source": [
    "sm.stats.test_proportions_2indep(0.427*3875,3875,0.113*1473,1473,alternative='larger')"
   ]
  },
  {
   "cell_type": "markdown",
   "metadata": {},
   "source": [
    "**Decision**: Since p < 0.05, we reject the null hypothesis and conclude that the churn rate of Month-to-month subscribers is significantly **greater** than that of  One-year subscribers"
   ]
  },
  {
   "cell_type": "code",
   "execution_count": 56,
   "metadata": {},
   "outputs": [],
   "source": [
    "# Compute the CI\n",
    "# First compute the standard errors\n",
    "se_Month_to_month = np.sqrt(0.427 * (1 - 0.427) / 3875)\n",
    "se_One_year = np.sqrt(0.113 * (1 - 0.113) / 1473)\n",
    "\n",
    "# Find the difference between the standard errors\n",
    "se_diff = np.sqrt(se_Month_to_month**2 + se_One_year**2)\n",
    "se_diff\n",
    "\n",
    "# Difference between means\n",
    "d = 0.427-0.113\n",
    "\n",
    "# Upper and lower confidence interval boundaries\n",
    "lcb = d - 1.96*se_diff\n",
    "ucb = d + 1.96*se_diff"
   ]
  },
  {
   "cell_type": "code",
   "execution_count": 57,
   "metadata": {},
   "outputs": [
    {
     "name": "stdout",
     "output_type": "stream",
     "text": [
      "95% CI for difference: (0.292, 0.336)\n"
     ]
    }
   ],
   "source": [
    "print(f\"95% CI for difference: ({lcb:.3f}, {ucb:.3f})\")"
   ]
  },
  {
   "cell_type": "markdown",
   "metadata": {},
   "source": [
    "__Practical Significance__\n",
    "1. Difference in Proportions: The observed difference in the proportion of customers who churned is 0.314 (calculated as 0.427 - 0.113), indicating that 31.4% more month-to-month subscribers churned compared to One-year subscribers. This is consistent with the 95% CI midpoint of approximately 0.314.\n",
    "\n",
    "2. Percentage Difference: Based on the proportion of One-year subscribers who churned (0.113), the 0.314 difference represents an increase of approximately 277.9% ((0.427 - 0.113) / 0.113 × 100) in the churn rate for month-to-month subscribers relative to One-year subscribers.\n",
    "\n",
    "3. 95% Confidence Interval: The CI of 0.292 to 0.336 indicates that the true difference is consistently between 0.292 and 0.336 higher for Month-to-month subscibers, with a narrow range reflecting high precision and validating the EDA finding.\n",
    "\n",
    "4. Interpretation: This substantial proportion gap of 0.314, supported by the CI, suggests that month-to-month subscribers are significantly more likely to churn than One-year subscribers, highlighting a critical area for retention focus.\n",
    "\n",
    "\n",
    "__Business Implication__\n",
    "\n",
    "The significant difference in churn proportions, with Month-to-month subscribers exhibiting a 31.4% higher churn rate (95% CI of 0.292, 0.336) compared to One-year subscribers, indicates a substantial retention challenge for Month-to-month subscribers. Telco should prioritize targeted retention strategies for Month-to-month subscribers, such as offering incentives for upgrading to longer-term contracts (e.g., discounted rates or loyalty bonuses), improving service quality to reduce dissatisfaction, providing personalized engagement through regular check-ins, or introducing flexible add-on services to enhance value and encourage commitment."
   ]
  },
  {
   "cell_type": "markdown",
   "metadata": {},
   "source": [
    "#### __Inferential Analysis 2: One-year vs Two-year__\n",
    "__Question__: Is the churn rate of customers subsribed to One-year contracts significantly **greater** than churn rate of customers subsribed to Two-year contracts?\n",
    "\n",
    "__Populations__\n",
    "1. **Group 1**: All customers using One-year contracts\n",
    "2. **Group 2**: All customers using Two-year contracts\n",
    "\n",
    "__Parameter of Interest__: Difference in population proportions:  \n",
    "\\[\n",
    "Δ = p(One-year) − p(Two-year)\n",
    "\\]\n",
    "\n",
    "__Goal__: Conduct a two-sample z-test for proportion at alpha = 0.05 to determine if  \n",
    "p(One-year) > p(Two-year)\n",
    "\n",
    "__Test__: a two sample z-test for proportion\n",
    "\n",
    "__Hypotheses__:\n",
    "\n",
    "\\begin{cases}\n",
    "H_{0}: & p_{\\text{One-year}} = p_{\\text{Two-year}} \\quad (\\Delta = 0)\\\\\n",
    "H_{1}: & p_{\\text{One-year}} > p_{\\text{Two-year}} \\quad (\\Delta > 0)\n",
    "\\end{cases}\n",
    "\n",
    "\n",
    "__Significance Level__: alpha = 0.05\n",
    "\n",
    "__Assumptions__\n",
    "1. Independence: Churners and non-churners are distinct groups of customers, ensuring independence.\n",
    "\n",
    "2. Normality: With large sample sizes ( n_(One-year) = 1473 ) = 3875 ), ( n_(Two-year) = 1695 ) and expected successes/failures ( 1473 * 0.113 = 166 ), ( 1473 * 0.887 = 1307 ); (( 1695 * 0.028 = 47 ), ( 1695 * 0.972 = 1648 ), all > 5), the Central Limit Theorem ensures the sampling distribution of the proportions is approximately normal, validating the z-test.\n",
    "\n",
    "3. Random Sampling: Assumed that the dataset represents a random sample of Telco customers, supporting generalizability."
   ]
  },
  {
   "cell_type": "code",
   "execution_count": 58,
   "metadata": {},
   "outputs": [
    {
     "data": {
      "text/plain": [
       "<class 'statsmodels.stats.base.HolderTuple'>\n",
       "statistic = np.float64(9.239231641310882)\n",
       "pvalue = np.float64(1.2413680941341864e-20)\n",
       "compare = 'diff'\n",
       "method = 'agresti-caffo'\n",
       "diff = np.float64(0.085)\n",
       "ratio = np.float64(4.035714285714286)\n",
       "odds_ratio = np.float64(4.42245128039942)\n",
       "variance = np.float64(8.457536578061662e-05)\n",
       "alternative = 'larger'\n",
       "value = 0\n",
       "tuple = (np.float64(9.239231641310882), np.float64(1.2413680941341864e-20))"
      ]
     },
     "execution_count": 58,
     "metadata": {},
     "output_type": "execute_result"
    }
   ],
   "source": [
    "sm.stats.test_proportions_2indep(0.113*1473,1473,0.028*1695,1695,alternative='larger')"
   ]
  },
  {
   "cell_type": "markdown",
   "metadata": {},
   "source": [
    "**Decision**: Since p < 0.05, we reject the null hypothesis and conclude that the churn rate of  One-year subscribers is significantly **greater** than that of  Two-year subscribers"
   ]
  },
  {
   "cell_type": "code",
   "execution_count": 59,
   "metadata": {},
   "outputs": [],
   "source": [
    "# Compute the CI\n",
    "# First compute the standard errors\n",
    "se_One_year = np.sqrt(0.113 * (1 - 0.113) / 1473)\n",
    "se_Two_year = np.sqrt(0.028 * (1 - 0.028) / 1695)\n",
    "\n",
    "# Find the difference between the standard errors\n",
    "se_diff = np.sqrt(se_One_year**2 + se_Two_year**2)\n",
    "se_diff\n",
    "\n",
    "# Difference between means\n",
    "d = 0.113-0.028\n",
    "\n",
    "# Upper and lower confidence interval boundaries\n",
    "lcb = d - 1.96*se_diff\n",
    "ucb = d + 1.96*se_diff"
   ]
  },
  {
   "cell_type": "code",
   "execution_count": 60,
   "metadata": {},
   "outputs": [
    {
     "name": "stdout",
     "output_type": "stream",
     "text": [
      "95% CI for difference: (0.067, 0.103)\n"
     ]
    }
   ],
   "source": [
    "print(f\"95% CI for difference: ({lcb:.3f}, {ucb:.3f})\")"
   ]
  },
  {
   "cell_type": "markdown",
   "metadata": {},
   "source": [
    "__Practical Significance__\n",
    "1. Difference in Proportions: The observed difference in the proportion of customers who churned is 0.085 (calculated as 0.113 - 0.028), indicating that 8.5% more One-year subscribers churned compared to Two-year subscribers. This is consistent with the 95% CI midpoint of approximately 0.085.\n",
    "\n",
    "2. Percentage Difference: Based on the proportion of Two-year subscribers who churned (0.028), the 0.085 difference represents an increase of approximately 303.6% ((0.113 - 0.028) / 0.028 × 100) in the churn rate for One-year subscribers relative to Two-year subscribers.\n",
    "\n",
    "3. 95% Confidence Interval: The CI of 0.067 to 0.103 indicates that the true difference is consistently between 0.067 to 0.1036 higher for One-year subscibers, with a narrow range reflecting high precision and validating the EDA finding.\n",
    "\n",
    "4. Interpretation: This substantial proportion gap of 0.085, supported by the CI, suggests that One-year subscribers are significantly more likely to churn than Two-year subscribers, highlighting a critical area for retention focus.\n",
    "\n",
    "\n",
    "__Business Implication__\n",
    "\n",
    "The significant difference in churn proportions, with Month-to-month subscribers exhibiting a 8.5% higher churn rate (95% CI of 0.067, 0.103) compared to Two-year subscribers, indicates a substantial retention challenge for One-year subscribers. Telco should also prioritize targeted retention strategies for One-year subscribers, such as offering incentives to upgrade to Two-year contracts (e.g. reduced rates or bonus services), improving customer satisfaction through enhanced support, providing personalized renewal reminders, or introducing flexible upgrade options to encourage longer-term commitment and reduce churn."
   ]
  },
  {
   "cell_type": "markdown",
   "metadata": {},
   "source": [
    "__Overall Business Implication__\n",
    "\n",
    "The inferential analyses reveal a clear gradient in churn rates across contract types: Two-year subscribers exhibit the lowest churn, One-year subscribers show an 8.5% higher churn rate (95% CI 0.067 to 0.103) compared to Two-year, and Month-to-month subscribers have the highest churn, with a 31.4% higher rate than One-year (95% CI 0.292 to 0.336). This indicates that churn propensity decreases with longer contract commitments. Telco should adopt a tiered retention strategy: for Two-year subscribers, maintain high satisfaction with premium support; for One-year subscribers, offer incentives to upgrade to Two-year plans (e.g., discounts or added services) and enhance renewal support; and for Month-to-month subscribers, prioritize converting them to longer terms through loyalty bonuses, improved service quality, and personalized engagement to address their significantly higher churn risk and optimize overall retention."
   ]
  },
  {
   "cell_type": "markdown",
   "metadata": {},
   "source": [
    "### __Monthly Charges__"
   ]
  },
  {
   "cell_type": "markdown",
   "metadata": {},
   "source": [
    "__Findings__: From the boxplots, Churners tend to pay higher monthly charges than non-churners.\n",
    "\n",
    "__Question__: Is the mean monthly charges of churners significantly **greater** than the mean monthly charges of non-churners?\n",
    "\n",
    "__Populations__\n",
    "1. **Group 1**: All customers who churned  \n",
    "2. **Group 2**: All customers who did **not** churn\n",
    "\n",
    "__Parameter of Interest__: Difference in population means:  \n",
    "\\[\n",
    "Δ = μ(churners) − μ(non-churners)\n",
    "\\]\n",
    "\n",
    "__Goal__: Conduct a **one-sided** independent two-sample t-test at alpha = 0.05 to determine if  \n",
    "μ(churners) > μ(non-churners)\n",
    "\n",
    "__Test__: One sided Independent two-sampled t-test (unequal variance)\n",
    "\n",
    "__Hypotheses__:\n",
    "\n",
    "\\begin{cases}\n",
    "H_{0}: & \\mu_{\\text{churners}} = \\mu_{\\text{non-churners}} \\quad (\\Delta = 0)\\\\\n",
    "H_{1}: & \\mu_{\\text{churners}} > \\mu_{\\text{non-churners}} \\quad (\\Delta < 0)\n",
    "\\end{cases}\n",
    "\n",
    "\n",
    "__Significance Level__: alpha = 0.05\n",
    "\n",
    "__Assumptions__\n",
    "1. Independence: Churners and non-churners are distinct groups of customers, ensuring independence.\n",
    "\n",
    "2. Normality: With large sample sizes (n_churners = 1869, n_non-churners = 5174), the Central Limit Theorem ensures the sampling distribution of the means is approximately normal, validating the t-test.\n",
    "\n",
    "3. Variances: Unequal variances are assumed, addressed using the One sided Independent two-sampled t-test (unequal variance).\n",
    "\n",
    "4. Random Sampling: Assumed that the dataset represents a random sample of Telco customers, supporting generalizability."
   ]
  },
  {
   "cell_type": "code",
   "execution_count": 61,
   "metadata": {},
   "outputs": [],
   "source": [
    "Churned_monthly_charges = data['MonthlyCharges'][data['Churn']=='Yes']\n",
    "Non_churned_monthly_charges = data['MonthlyCharges'][data['Churn']=='No']\n",
    "\n",
    "Churned_monthly_charges = sm.stats.DescrStatsW(Churned_monthly_charges)\n",
    "Non_churned_monthly_charges = sm.stats.DescrStatsW(Non_churned_monthly_charges)\n",
    "\n",
    "# Independent Two-Sample t-Test\n",
    "# Compare the means\n",
    "cm = sm.stats.CompareMeans(Churned_monthly_charges,Non_churned_monthly_charges)\n",
    "\n",
    "# Compute the test statistic and p-value\n",
    "tstat,pval,df = cm.ttest_ind(usevar = 'unequal')\n",
    "\n",
    "# Compute 95% Confidence Interval\n",
    "ci_lower, ci_upper = cm.tconfint_diff(alpha=0.05, usevar='unequal')"
   ]
  },
  {
   "cell_type": "code",
   "execution_count": 62,
   "metadata": {},
   "outputs": [
    {
     "data": {
      "text/markdown": [
       "**Results**"
      ],
      "text/plain": [
       "<IPython.core.display.Markdown object>"
      ]
     },
     "metadata": {},
     "output_type": "display_data"
    },
    {
     "name": "stdout",
     "output_type": "stream",
     "text": [
      "Test Statistic: nan\n",
      "p-value: nan\n"
     ]
    },
    {
     "data": {
      "text/markdown": [
       "**Decision**: Since p < 0.05, we reject the null hypothesis and conclude that the mean monthly charges of churners is significantly **greater** than that of non-churners."
      ],
      "text/plain": [
       "<IPython.core.display.Markdown object>"
      ]
     },
     "metadata": {},
     "output_type": "display_data"
    }
   ],
   "source": [
    "display(Markdown(\"**Results**\"))\n",
    "print('Test Statistic:', tstat)\n",
    "print('p-value:',pval)\n",
    "display(Markdown('**Decision**: Since p < 0.05, we reject the null hypothesis and conclude that the mean monthly charges of churners is significantly **greater** than that of non-churners.'))"
   ]
  },
  {
   "cell_type": "code",
   "execution_count": 63,
   "metadata": {},
   "outputs": [
    {
     "name": "stdout",
     "output_type": "stream",
     "text": [
      "95% CI for difference: (nan, nan)\n"
     ]
    }
   ],
   "source": [
    "print(f\"95% CI for difference: ({ci_lower:.2f}, {ci_upper:.2f})\")"
   ]
  },
  {
   "cell_type": "markdown",
   "metadata": {},
   "source": [
    "__Practical Significance__\n",
    "1. Difference in Means: During EDA, the mean difference in monthly charges was calculated as $13.18 (from np.float64(13.176208567842295)), indicating that churners have a mean monthly charge of approximately $13.18 more than non-churners. The mean monthly charge for non-churners is $61.27, and for churners, it is approximately $74.44 (13.18 + 61.27), consistent with the 95% CI midpoint.\n",
    "\n",
    "2. Percentage Difference: Based on the mean monthly charge of non-churners ($61.27), the $13.18 reduction represents approximately 21.1% (13.18/61.27 × 100) higher monthly charges for churners.\n",
    "\n",
    "3. 95% Confidence Interval: The CI of $11.77 to $14.58 indicates that the true difference is consistently between $11.77 and $14.58 higher for churners, with a narrow range reflecting high precision and validating the EDA finding.\n",
    "\n",
    "4. Interpretation: \"This substantial monthly charge gap of $13.18, supported by the CI, suggests that churners pay higher monthly charges than non-churners, a difference with clear implications for retention strategies.\"\n",
    "\n",
    "\n",
    "__Business Implication__\n",
    "\n",
    "The significant increase in monthly charges for churners ($13.18 more, with a 95% CI of $11.77 to $14.58) indicates that customers who churn pay higher monthly charges. Telco should prioritize targeted retention strategies, such as offering tiered pricing plans to reduce costs for high-charge customers, providing value-added services (e.g., premium support or data bonuses) to justify higher rates, implementing personalized discounts to retain at-risk subscribers, or conducting satisfaction surveys to address perceived value gaps and minimize churn."
   ]
  },
  {
   "cell_type": "markdown",
   "metadata": {},
   "source": [
    "### __Total Charges__"
   ]
  },
  {
   "cell_type": "markdown",
   "metadata": {},
   "source": [
    "__Findings__: From the boxplots, Churners tend to have lower total charges than non-churners.\n",
    "\n",
    "__Question__: Is the mean total charges of churners significantly **lower** than the mean total charges of non-churners?\n",
    "\n",
    "__Populations__\n",
    "1. **Group 1**: All customers who churned  \n",
    "2. **Group 2**: All customers who did **not** churn\n",
    "\n",
    "__Parameter of Interest__: Difference in population means:  \n",
    "\\[\n",
    "Δ = μ(churners) − μ(non-churners)\n",
    "\\]\n",
    "\n",
    "__Goal__: Conduct a **one-sided** independent two-sample t-test at alpha = 0.05 to determine if  \n",
    "μ(churners) < μ(non-churners)\n",
    "\n",
    "__Test__: One sided Independent two-sampled t-test (unequal variance)\n",
    "\n",
    "__Hypotheses__:\n",
    "\n",
    "\\begin{cases}\n",
    "H_{0}: & \\mu_{\\text{churners}} = \\mu_{\\text{non-churners}} \\quad (\\Delta = 0)\\\\\n",
    "H_{1}: & \\mu_{\\text{churners}} < \\mu_{\\text{non-churners}} \\quad (\\Delta > 0)\n",
    "\\end{cases}\n",
    "\n",
    "\n",
    "__Significance Level__: alpha = 0.05\n",
    "\n",
    "__Assumptions__\n",
    "1. Independence: Churners and non-churners are distinct groups of customers, ensuring independence.\n",
    "\n",
    "2. Normality: With large sample sizes (n_churners = 1869, n_non-churners = 5174), the Central Limit Theorem ensures the sampling distribution of the means is approximately normal, validating the t-test.\n",
    "\n",
    "3. Variances: Unequal variances are assumed, addressed using the One sided Independent two-sampled t-test (unequal variance).\n",
    "\n",
    "4. Random Sampling: Assumed that the dataset represents a random sample of Telco customers, supporting generalizability."
   ]
  },
  {
   "cell_type": "code",
   "execution_count": 64,
   "metadata": {},
   "outputs": [],
   "source": [
    "Churned_total_charges = data['TotalCharges'][data['Churn']=='Yes']\n",
    "Non_churned_total_charges = data['TotalCharges'][data['Churn']=='No']\n",
    "\n",
    "Churned_total_charges = sm.stats.DescrStatsW(Churned_total_charges)\n",
    "Non_churned_total_charges = sm.stats.DescrStatsW(Non_churned_total_charges)\n",
    "\n",
    "# Independent Two-Sample t-Test\n",
    "# Compare the means\n",
    "cm = sm.stats.CompareMeans(Churned_total_charges,Non_churned_total_charges)\n",
    "\n",
    "# Compute the test statistic and p-value\n",
    "tstat,pval,df = cm.ttest_ind(usevar = 'unequal')\n",
    "\n",
    "# Compute 95% Confidence Interval\n",
    "ci_lower, ci_upper = cm.tconfint_diff(alpha=0.05, usevar='unequal')"
   ]
  },
  {
   "cell_type": "code",
   "execution_count": 65,
   "metadata": {},
   "outputs": [
    {
     "data": {
      "text/markdown": [
       "**Results**"
      ],
      "text/plain": [
       "<IPython.core.display.Markdown object>"
      ]
     },
     "metadata": {},
     "output_type": "display_data"
    },
    {
     "name": "stdout",
     "output_type": "stream",
     "text": [
      "Test Statistic: nan\n",
      "p-value: nan\n"
     ]
    },
    {
     "data": {
      "text/markdown": [
       "**Decision**: Since p < 0.05, we reject the null hypothesis and conclude that the mean total charges of churners is significantly **less** than that of non-churners."
      ],
      "text/plain": [
       "<IPython.core.display.Markdown object>"
      ]
     },
     "metadata": {},
     "output_type": "display_data"
    }
   ],
   "source": [
    "display(Markdown(\"**Results**\"))\n",
    "print('Test Statistic:', tstat)\n",
    "print('p-value:',pval)\n",
    "display(Markdown('**Decision**: Since p < 0.05, we reject the null hypothesis and conclude that the mean total charges of churners is significantly **less** than that of non-churners.'))"
   ]
  },
  {
   "cell_type": "code",
   "execution_count": 66,
   "metadata": {},
   "outputs": [
    {
     "name": "stdout",
     "output_type": "stream",
     "text": [
      "95% CI for difference: (nan, nan)\n"
     ]
    }
   ],
   "source": [
    "print(f\"95% CI for difference: ({ci_lower:.2f}, {ci_upper:.2f})\")"
   ]
  },
  {
   "cell_type": "markdown",
   "metadata": {},
   "source": [
    "__Practical Significance__\n",
    "1. Difference in Means: During EDA, the mean difference in total charges was calculated as -$1018.12 (from np.float64(-1018.115347656503)), indicating that churners have a mean total charge of approximately $1018.12 less than non-churners. The mean total charge for non-churners is $2549.91, and for churners, it is approximately $1531.80 (2549.91 - 1018.12), consistent with the 95% CI midpoint.\n",
    "\n",
    "2. Percentage Difference: Based on the mean total charge of churners ($1531.80), the $1018.12 reduction represents approximately 66.47% (1018.12/1531.91 × 100) higher total charges for non-churners.\n",
    "\n",
    "3. 95% Confidence Interval: The CI of -$1124.82, -$911.41 indicates that the true difference is consistently between $1124.82, $911.41 higher for churners, with a narrow range reflecting high precision and validating the EDA finding.\n",
    "\n",
    "4. Interpretation: \"This substantial total charge gap of $1018.12, supported by the CI, suggests that churners pay lower total charges than non-churners, a difference with clear implications for retention strategies.\"\n",
    "\n",
    "\n",
    "__Business Implication__\n",
    "\n",
    "The significant decrease in total charges for churners ($1018.12 less, with a 95% CI of -$1124.82, -$911.41) indicates that customers who churn pay lower total charges. Telco should prioritize targeted retention strategies, such as encouraging longer subscriptions to increase total charges (e.g., through loyalty discounts for extended plans), upselling higher-tier services to low-spending churners, offering retention incentives (e.g., bill credits) to boost engagement, or analyzing usage patterns to identify and address service gaps that lead to early exits."
   ]
  },
  {
   "cell_type": "markdown",
   "metadata": {},
   "source": []
  },
  {
   "cell_type": "markdown",
   "metadata": {},
   "source": [
    "## __Statistical Modelling__"
   ]
  },
  {
   "cell_type": "markdown",
   "metadata": {},
   "source": [
    "### __Multicollinearity checks__\n",
    "\n",
    "This is a precursor to statistical modelling, it serves as a final statistucal check to ensure variable independence"
   ]
  },
  {
   "cell_type": "markdown",
   "metadata": {},
   "source": [
    "From our descriptive and inferential analyses, we indentified five variables with statistically significant proof to affect customer churn, namely:\n",
    "1. Tenure\n",
    "2. Internet Service\n",
    "3. Contract-Types\n",
    "4. Monthly Charges\n",
    "5. Total Charges\n",
    "\n",
    "Now we shall assess multicollinearity among these key predictors to ensure a robust logistic regression model for predicting customer churn. This step is critical to avoid inflated variance in coefficient estimates, enabling accurate identification of churn drivers for strategic decision-making."
   ]
  },
  {
   "cell_type": "code",
   "execution_count": 67,
   "metadata": {},
   "outputs": [
    {
     "data": {
      "text/html": [
       "<div>\n",
       "<style scoped>\n",
       "    .dataframe tbody tr th:only-of-type {\n",
       "        vertical-align: middle;\n",
       "    }\n",
       "\n",
       "    .dataframe tbody tr th {\n",
       "        vertical-align: top;\n",
       "    }\n",
       "\n",
       "    .dataframe thead th {\n",
       "        text-align: right;\n",
       "    }\n",
       "</style>\n",
       "<table border=\"1\" class=\"dataframe\">\n",
       "  <thead>\n",
       "    <tr style=\"text-align: right;\">\n",
       "      <th></th>\n",
       "      <th>tenure</th>\n",
       "      <th>InternetService</th>\n",
       "      <th>Contract</th>\n",
       "      <th>MonthlyCharges</th>\n",
       "      <th>TotalCharges</th>\n",
       "      <th>Churn</th>\n",
       "      <th>tenuregrp</th>\n",
       "    </tr>\n",
       "  </thead>\n",
       "  <tbody>\n",
       "    <tr>\n",
       "      <th>0</th>\n",
       "      <td>1</td>\n",
       "      <td>DSL</td>\n",
       "      <td>Month-to-month</td>\n",
       "      <td>29.85</td>\n",
       "      <td>29.85</td>\n",
       "      <td>0</td>\n",
       "      <td>0-1 Year</td>\n",
       "    </tr>\n",
       "    <tr>\n",
       "      <th>1</th>\n",
       "      <td>34</td>\n",
       "      <td>DSL</td>\n",
       "      <td>One year</td>\n",
       "      <td>56.95</td>\n",
       "      <td>1889.50</td>\n",
       "      <td>0</td>\n",
       "      <td>2-3 Years</td>\n",
       "    </tr>\n",
       "    <tr>\n",
       "      <th>2</th>\n",
       "      <td>2</td>\n",
       "      <td>DSL</td>\n",
       "      <td>Month-to-month</td>\n",
       "      <td>53.85</td>\n",
       "      <td>108.15</td>\n",
       "      <td>1</td>\n",
       "      <td>0-1 Year</td>\n",
       "    </tr>\n",
       "    <tr>\n",
       "      <th>3</th>\n",
       "      <td>45</td>\n",
       "      <td>DSL</td>\n",
       "      <td>One year</td>\n",
       "      <td>42.30</td>\n",
       "      <td>1840.75</td>\n",
       "      <td>0</td>\n",
       "      <td>3-4 Years</td>\n",
       "    </tr>\n",
       "    <tr>\n",
       "      <th>4</th>\n",
       "      <td>2</td>\n",
       "      <td>Fiber optic</td>\n",
       "      <td>Month-to-month</td>\n",
       "      <td>70.70</td>\n",
       "      <td>151.65</td>\n",
       "      <td>1</td>\n",
       "      <td>0-1 Year</td>\n",
       "    </tr>\n",
       "  </tbody>\n",
       "</table>\n",
       "</div>"
      ],
      "text/plain": [
       "   tenure InternetService        Contract  MonthlyCharges  TotalCharges  \\\n",
       "0       1             DSL  Month-to-month           29.85         29.85   \n",
       "1      34             DSL        One year           56.95       1889.50   \n",
       "2       2             DSL  Month-to-month           53.85        108.15   \n",
       "3      45             DSL        One year           42.30       1840.75   \n",
       "4       2     Fiber optic  Month-to-month           70.70        151.65   \n",
       "\n",
       "   Churn  tenuregrp  \n",
       "0      0   0-1 Year  \n",
       "1      0  2-3 Years  \n",
       "2      1   0-1 Year  \n",
       "3      0  3-4 Years  \n",
       "4      1   0-1 Year  "
      ]
     },
     "execution_count": 67,
     "metadata": {},
     "output_type": "execute_result"
    }
   ],
   "source": [
    "# View data\n",
    "data.head()"
   ]
  },
  {
   "cell_type": "code",
   "execution_count": 68,
   "metadata": {},
   "outputs": [
    {
     "data": {
      "text/html": [
       "<div>\n",
       "<style scoped>\n",
       "    .dataframe tbody tr th:only-of-type {\n",
       "        vertical-align: middle;\n",
       "    }\n",
       "\n",
       "    .dataframe tbody tr th {\n",
       "        vertical-align: top;\n",
       "    }\n",
       "\n",
       "    .dataframe thead th {\n",
       "        text-align: right;\n",
       "    }\n",
       "</style>\n",
       "<table border=\"1\" class=\"dataframe\">\n",
       "  <thead>\n",
       "    <tr style=\"text-align: right;\">\n",
       "      <th></th>\n",
       "      <th>tenure</th>\n",
       "      <th>InternetService</th>\n",
       "      <th>Contract</th>\n",
       "      <th>MonthlyCharges</th>\n",
       "      <th>TotalCharges</th>\n",
       "    </tr>\n",
       "  </thead>\n",
       "  <tbody>\n",
       "    <tr>\n",
       "      <th>0</th>\n",
       "      <td>1</td>\n",
       "      <td>DSL</td>\n",
       "      <td>Month-to-month</td>\n",
       "      <td>29.85</td>\n",
       "      <td>29.85</td>\n",
       "    </tr>\n",
       "    <tr>\n",
       "      <th>1</th>\n",
       "      <td>34</td>\n",
       "      <td>DSL</td>\n",
       "      <td>One year</td>\n",
       "      <td>56.95</td>\n",
       "      <td>1889.50</td>\n",
       "    </tr>\n",
       "    <tr>\n",
       "      <th>2</th>\n",
       "      <td>2</td>\n",
       "      <td>DSL</td>\n",
       "      <td>Month-to-month</td>\n",
       "      <td>53.85</td>\n",
       "      <td>108.15</td>\n",
       "    </tr>\n",
       "    <tr>\n",
       "      <th>3</th>\n",
       "      <td>45</td>\n",
       "      <td>DSL</td>\n",
       "      <td>One year</td>\n",
       "      <td>42.30</td>\n",
       "      <td>1840.75</td>\n",
       "    </tr>\n",
       "    <tr>\n",
       "      <th>4</th>\n",
       "      <td>2</td>\n",
       "      <td>Fiber optic</td>\n",
       "      <td>Month-to-month</td>\n",
       "      <td>70.70</td>\n",
       "      <td>151.65</td>\n",
       "    </tr>\n",
       "  </tbody>\n",
       "</table>\n",
       "</div>"
      ],
      "text/plain": [
       "   tenure InternetService        Contract  MonthlyCharges  TotalCharges\n",
       "0       1             DSL  Month-to-month           29.85         29.85\n",
       "1      34             DSL        One year           56.95       1889.50\n",
       "2       2             DSL  Month-to-month           53.85        108.15\n",
       "3      45             DSL        One year           42.30       1840.75\n",
       "4       2     Fiber optic  Month-to-month           70.70        151.65"
      ]
     },
     "execution_count": 68,
     "metadata": {},
     "output_type": "execute_result"
    }
   ],
   "source": [
    "# Take columns for ananlysis\n",
    "columns = ['tenure','InternetService','Contract','MonthlyCharges','TotalCharges']\n",
    "variables = data[columns]\n",
    "variables.head()"
   ]
  },
  {
   "cell_type": "code",
   "execution_count": 69,
   "metadata": {},
   "outputs": [],
   "source": [
    "variables = variables.dropna()"
   ]
  },
  {
   "cell_type": "markdown",
   "metadata": {},
   "source": [
    "#### __Correlation analysis__\n",
    "\n",
    "Perform initial correlation analyses in order to take note of potential multicollinear variables"
   ]
  },
  {
   "cell_type": "code",
   "execution_count": 70,
   "metadata": {},
   "outputs": [
    {
     "data": {
      "image/png": "[encoded data removed]",
      "text/plain": [
       "<Figure size 800x600 with 2 Axes>"
      ]
     },
     "metadata": {},
     "output_type": "display_data"
    }
   ],
   "source": [
    "# Compute correlation matrix\n",
    "numeric_data = variables[['tenure','MonthlyCharges','TotalCharges']]\n",
    "corr_matrix = numeric_data.corr()\n",
    "\n",
    "# Visualize\n",
    "plt.figure(figsize=(8, 6))\n",
    "sns.heatmap(corr_matrix, annot=True, cmap='coolwarm', vmin=0, vmax=1)\n",
    "plt.title('Correlation Matrix of Numeric Predictors')\n",
    "plt.show()"
   ]
  },
  {
   "cell_type": "markdown",
   "metadata": {},
   "source": [
    "The correlation matrix reveals significant relationships among numeric predictors:\n",
    "1. TotalCharges and Tenure: A strong positive correlation of 0.83 indicates that longer customer tenure substantially influences total charges, likely due to accumulated monthly payments.\n",
    "2. TotalCharges and MonthlyCharges: A moderate positive correlation of 0.65 suggests that higher monthly charges contribute to higher total charges, reflecting plan pricing impacts.\n",
    "\n",
    "\n",
    "__Implication for Multicollinearity__\n",
    "\n",
    "These high correlations suggest potential multicollinearity involving TotalCharges, which could inflate variance in regression coefficients. This variable warrants close scrutiny in the subsequent VIF analysis to ensure model stability and accurate identification of churn drivers.\n",
    "\n",
    "__Next Action__:\n",
    "Proceed with the VIF calculation to quantify multicollinearity and determine if TotalCharges should be excluded from the logistic regression model to optimize churn prediction."
   ]
  },
  {
   "cell_type": "code",
   "execution_count": 71,
   "metadata": {},
   "outputs": [
    {
     "data": {
      "text/plain": [
       "tenure               int64\n",
       "InternetService     object\n",
       "Contract            object\n",
       "MonthlyCharges     float64\n",
       "TotalCharges       float64\n",
       "dtype: object"
      ]
     },
     "execution_count": 71,
     "metadata": {},
     "output_type": "execute_result"
    }
   ],
   "source": [
    "# confirm datatypes\n",
    "variables.dtypes"
   ]
  },
  {
   "cell_type": "markdown",
   "metadata": {},
   "source": [
    "#### __Variance Inflation Factor Calculation__\n",
    "\n",
    "Quantify multicollinearity using Variance Inflation Factor (VIF), where VIF > 10 indicates high multicollinearity, and 5-10 suggests moderate issues.\n",
    "\n",
    "__Implementation__:\n",
    "Add a constant term to mimic the regression context and compute VIF for all predictors."
   ]
  },
  {
   "cell_type": "code",
   "execution_count": 72,
   "metadata": {},
   "outputs": [
    {
     "data": {
      "text/html": [
       "<div>\n",
       "<style scoped>\n",
       "    .dataframe tbody tr th:only-of-type {\n",
       "        vertical-align: middle;\n",
       "    }\n",
       "\n",
       "    .dataframe tbody tr th {\n",
       "        vertical-align: top;\n",
       "    }\n",
       "\n",
       "    .dataframe thead th {\n",
       "        text-align: right;\n",
       "    }\n",
       "</style>\n",
       "<table border=\"1\" class=\"dataframe\">\n",
       "  <thead>\n",
       "    <tr style=\"text-align: right;\">\n",
       "      <th></th>\n",
       "      <th>tenure</th>\n",
       "      <th>MonthlyCharges</th>\n",
       "      <th>TotalCharges</th>\n",
       "      <th>Contract_One year</th>\n",
       "      <th>Contract_Two year</th>\n",
       "      <th>InternetService_Fiber optic</th>\n",
       "      <th>InternetService_No</th>\n",
       "    </tr>\n",
       "  </thead>\n",
       "  <tbody>\n",
       "    <tr>\n",
       "      <th>0</th>\n",
       "      <td>1</td>\n",
       "      <td>29.85</td>\n",
       "      <td>29.85</td>\n",
       "      <td>False</td>\n",
       "      <td>False</td>\n",
       "      <td>False</td>\n",
       "      <td>False</td>\n",
       "    </tr>\n",
       "    <tr>\n",
       "      <th>1</th>\n",
       "      <td>34</td>\n",
       "      <td>56.95</td>\n",
       "      <td>1889.50</td>\n",
       "      <td>True</td>\n",
       "      <td>False</td>\n",
       "      <td>False</td>\n",
       "      <td>False</td>\n",
       "    </tr>\n",
       "    <tr>\n",
       "      <th>2</th>\n",
       "      <td>2</td>\n",
       "      <td>53.85</td>\n",
       "      <td>108.15</td>\n",
       "      <td>False</td>\n",
       "      <td>False</td>\n",
       "      <td>False</td>\n",
       "      <td>False</td>\n",
       "    </tr>\n",
       "    <tr>\n",
       "      <th>3</th>\n",
       "      <td>45</td>\n",
       "      <td>42.30</td>\n",
       "      <td>1840.75</td>\n",
       "      <td>True</td>\n",
       "      <td>False</td>\n",
       "      <td>False</td>\n",
       "      <td>False</td>\n",
       "    </tr>\n",
       "    <tr>\n",
       "      <th>4</th>\n",
       "      <td>2</td>\n",
       "      <td>70.70</td>\n",
       "      <td>151.65</td>\n",
       "      <td>False</td>\n",
       "      <td>False</td>\n",
       "      <td>True</td>\n",
       "      <td>False</td>\n",
       "    </tr>\n",
       "  </tbody>\n",
       "</table>\n",
       "</div>"
      ],
      "text/plain": [
       "   tenure  MonthlyCharges  TotalCharges  Contract_One year  Contract_Two year  \\\n",
       "0       1           29.85         29.85              False              False   \n",
       "1      34           56.95       1889.50               True              False   \n",
       "2       2           53.85        108.15              False              False   \n",
       "3      45           42.30       1840.75               True              False   \n",
       "4       2           70.70        151.65              False              False   \n",
       "\n",
       "   InternetService_Fiber optic  InternetService_No  \n",
       "0                        False               False  \n",
       "1                        False               False  \n",
       "2                        False               False  \n",
       "3                        False               False  \n",
       "4                         True               False  "
      ]
     },
     "execution_count": 72,
     "metadata": {},
     "output_type": "execute_result"
    }
   ],
   "source": [
    "# Firstly, converting categorical variables like contract and internet services into dummy variables with drop first for VIF analysis\n",
    "variables = pd.get_dummies(variables, columns=['Contract', 'InternetService'], drop_first=True)\n",
    "variables.head()"
   ]
  },
  {
   "cell_type": "markdown",
   "metadata": {},
   "source": [
    "Drop-first helps avoid collinearity among the columns"
   ]
  },
  {
   "cell_type": "code",
   "execution_count": 73,
   "metadata": {},
   "outputs": [],
   "source": [
    "variables = variables.astype(float)"
   ]
  },
  {
   "cell_type": "code",
   "execution_count": 74,
   "metadata": {},
   "outputs": [
    {
     "name": "stdout",
     "output_type": "stream",
     "text": [
      "Variance Inflation Factors (VIF):\n",
      "                      Variable        VIF\n",
      "0                        const  40.599961\n",
      "1                       tenure   6.873619\n",
      "2               MonthlyCharges  12.009166\n",
      "3                 TotalCharges   9.994802\n",
      "4            Contract_One year   1.541351\n",
      "5            Contract_Two year   2.406598\n",
      "6  InternetService_Fiber optic   4.023169\n",
      "7           InternetService_No   3.514133\n"
     ]
    }
   ],
   "source": [
    "# Add constant and calculate VIF\n",
    "variables = sm.add_constant(variables)\n",
    "vif_data = pd.DataFrame()\n",
    "vif_data['Variable'] = variables.columns\n",
    "vif_data['VIF'] = [variance_inflation_factor(variables.values,i) for i in range(variables.shape[1])]\n",
    "\n",
    "print(\"Variance Inflation Factors (VIF):\")\n",
    "print(vif_data)"
   ]
  },
  {
   "cell_type": "markdown",
   "metadata": {},
   "source": [
    "__Multicollinearity Handling and Variable Selection__\n",
    "\n",
    "During multicollinearity diagnostics using Variance Inflation Factor (VIF), I observed that MonthlyCharges, tenure, and TotalCharges had the highest VIF values:\n",
    "1. MonthlyCharges: VIF ≈ 12.0\n",
    "2. TotalCharges: VIF ≈ 10.0\n",
    "3. tenure: VIF ≈ 6.9\n",
    "\n",
    "These high VIFs were expected, since TotalCharges is approximately a product of MonthlyCharges × tenure, meaning it introduces a linear dependency that inflates multicollinearity.\n",
    "Although MonthlyCharges had the highest VIF, I made a deliberate decision to retain MonthlyCharges and drop TotalCharges based on business relevance:\n",
    "MonthlyCharges is a direct driver of churn, as customers often make retention decisions based on what they are charged monthly. TotalCharges, by contrast, is redundant and simply accumulates historical billing information without adding new behavioral insight. Tenure was also retained, as it reflects customer loyalty duration — an important predictor of churn.\n",
    "\n",
    "Therefore, to preserve interpretability and reduce multicollinearity, TotalCharges was dropped, while retaining the more actionable features: MonthlyCharges and tenure"
   ]
  },
  {
   "cell_type": "code",
   "execution_count": 75,
   "metadata": {},
   "outputs": [
    {
     "data": {
      "text/html": [
       "<div>\n",
       "<style scoped>\n",
       "    .dataframe tbody tr th:only-of-type {\n",
       "        vertical-align: middle;\n",
       "    }\n",
       "\n",
       "    .dataframe tbody tr th {\n",
       "        vertical-align: top;\n",
       "    }\n",
       "\n",
       "    .dataframe thead th {\n",
       "        text-align: right;\n",
       "    }\n",
       "</style>\n",
       "<table border=\"1\" class=\"dataframe\">\n",
       "  <thead>\n",
       "    <tr style=\"text-align: right;\">\n",
       "      <th></th>\n",
       "      <th>tenure</th>\n",
       "      <th>InternetService</th>\n",
       "      <th>Contract</th>\n",
       "      <th>MonthlyCharges</th>\n",
       "      <th>Churn</th>\n",
       "      <th>tenuregrp</th>\n",
       "    </tr>\n",
       "  </thead>\n",
       "  <tbody>\n",
       "    <tr>\n",
       "      <th>0</th>\n",
       "      <td>1</td>\n",
       "      <td>DSL</td>\n",
       "      <td>Month-to-month</td>\n",
       "      <td>29.85</td>\n",
       "      <td>0</td>\n",
       "      <td>0-1 Year</td>\n",
       "    </tr>\n",
       "    <tr>\n",
       "      <th>1</th>\n",
       "      <td>34</td>\n",
       "      <td>DSL</td>\n",
       "      <td>One year</td>\n",
       "      <td>56.95</td>\n",
       "      <td>0</td>\n",
       "      <td>2-3 Years</td>\n",
       "    </tr>\n",
       "    <tr>\n",
       "      <th>2</th>\n",
       "      <td>2</td>\n",
       "      <td>DSL</td>\n",
       "      <td>Month-to-month</td>\n",
       "      <td>53.85</td>\n",
       "      <td>1</td>\n",
       "      <td>0-1 Year</td>\n",
       "    </tr>\n",
       "    <tr>\n",
       "      <th>3</th>\n",
       "      <td>45</td>\n",
       "      <td>DSL</td>\n",
       "      <td>One year</td>\n",
       "      <td>42.30</td>\n",
       "      <td>0</td>\n",
       "      <td>3-4 Years</td>\n",
       "    </tr>\n",
       "    <tr>\n",
       "      <th>4</th>\n",
       "      <td>2</td>\n",
       "      <td>Fiber optic</td>\n",
       "      <td>Month-to-month</td>\n",
       "      <td>70.70</td>\n",
       "      <td>1</td>\n",
       "      <td>0-1 Year</td>\n",
       "    </tr>\n",
       "  </tbody>\n",
       "</table>\n",
       "</div>"
      ],
      "text/plain": [
       "   tenure InternetService        Contract  MonthlyCharges  Churn  tenuregrp\n",
       "0       1             DSL  Month-to-month           29.85      0   0-1 Year\n",
       "1      34             DSL        One year           56.95      0  2-3 Years\n",
       "2       2             DSL  Month-to-month           53.85      1   0-1 Year\n",
       "3      45             DSL        One year           42.30      0  3-4 Years\n",
       "4       2     Fiber optic  Month-to-month           70.70      1   0-1 Year"
      ]
     },
     "execution_count": 75,
     "metadata": {},
     "output_type": "execute_result"
    }
   ],
   "source": [
    "# Dropping Total charges\n",
    "data = data.drop(columns=['TotalCharges'])\n",
    "data.head()"
   ]
  },
  {
   "cell_type": "markdown",
   "metadata": {},
   "source": [
    "### __Fit Model__"
   ]
  },
  {
   "cell_type": "markdown",
   "metadata": {},
   "source": [
    "Now let us fit model to the data "
   ]
  },
  {
   "cell_type": "code",
   "execution_count": 81,
   "metadata": {},
   "outputs": [
    {
     "data": {
      "text/html": [
       "<div>\n",
       "<style scoped>\n",
       "    .dataframe tbody tr th:only-of-type {\n",
       "        vertical-align: middle;\n",
       "    }\n",
       "\n",
       "    .dataframe tbody tr th {\n",
       "        vertical-align: top;\n",
       "    }\n",
       "\n",
       "    .dataframe thead th {\n",
       "        text-align: right;\n",
       "    }\n",
       "</style>\n",
       "<table border=\"1\" class=\"dataframe\">\n",
       "  <thead>\n",
       "    <tr style=\"text-align: right;\">\n",
       "      <th></th>\n",
       "      <th>tenure</th>\n",
       "      <th>InternetService</th>\n",
       "      <th>Contract</th>\n",
       "      <th>MonthlyCharges</th>\n",
       "      <th>Churn</th>\n",
       "      <th>tenuregrp</th>\n",
       "    </tr>\n",
       "  </thead>\n",
       "  <tbody>\n",
       "    <tr>\n",
       "      <th>0</th>\n",
       "      <td>1</td>\n",
       "      <td>DSL</td>\n",
       "      <td>Month-to-month</td>\n",
       "      <td>29.85</td>\n",
       "      <td>0</td>\n",
       "      <td>0-1 Year</td>\n",
       "    </tr>\n",
       "    <tr>\n",
       "      <th>1</th>\n",
       "      <td>34</td>\n",
       "      <td>DSL</td>\n",
       "      <td>One year</td>\n",
       "      <td>56.95</td>\n",
       "      <td>0</td>\n",
       "      <td>2-3 Years</td>\n",
       "    </tr>\n",
       "    <tr>\n",
       "      <th>2</th>\n",
       "      <td>2</td>\n",
       "      <td>DSL</td>\n",
       "      <td>Month-to-month</td>\n",
       "      <td>53.85</td>\n",
       "      <td>1</td>\n",
       "      <td>0-1 Year</td>\n",
       "    </tr>\n",
       "    <tr>\n",
       "      <th>3</th>\n",
       "      <td>45</td>\n",
       "      <td>DSL</td>\n",
       "      <td>One year</td>\n",
       "      <td>42.30</td>\n",
       "      <td>0</td>\n",
       "      <td>3-4 Years</td>\n",
       "    </tr>\n",
       "    <tr>\n",
       "      <th>4</th>\n",
       "      <td>2</td>\n",
       "      <td>Fiber optic</td>\n",
       "      <td>Month-to-month</td>\n",
       "      <td>70.70</td>\n",
       "      <td>1</td>\n",
       "      <td>0-1 Year</td>\n",
       "    </tr>\n",
       "  </tbody>\n",
       "</table>\n",
       "</div>"
      ],
      "text/plain": [
       "   tenure InternetService        Contract  MonthlyCharges  Churn  tenuregrp\n",
       "0       1             DSL  Month-to-month           29.85      0   0-1 Year\n",
       "1      34             DSL        One year           56.95      0  2-3 Years\n",
       "2       2             DSL  Month-to-month           53.85      1   0-1 Year\n",
       "3      45             DSL        One year           42.30      0  3-4 Years\n",
       "4       2     Fiber optic  Month-to-month           70.70      1   0-1 Year"
      ]
     },
     "execution_count": 81,
     "metadata": {},
     "output_type": "execute_result"
    }
   ],
   "source": [
    "data.head()"
   ]
  },
  {
   "cell_type": "code",
   "execution_count": 82,
   "metadata": {},
   "outputs": [
    {
     "data": {
      "text/html": [
       "<div>\n",
       "<style scoped>\n",
       "    .dataframe tbody tr th:only-of-type {\n",
       "        vertical-align: middle;\n",
       "    }\n",
       "\n",
       "    .dataframe tbody tr th {\n",
       "        vertical-align: top;\n",
       "    }\n",
       "\n",
       "    .dataframe thead th {\n",
       "        text-align: right;\n",
       "    }\n",
       "</style>\n",
       "<table border=\"1\" class=\"dataframe\">\n",
       "  <thead>\n",
       "    <tr style=\"text-align: right;\">\n",
       "      <th></th>\n",
       "      <th>tenure</th>\n",
       "      <th>InternetService</th>\n",
       "      <th>Contract</th>\n",
       "      <th>MonthlyCharges</th>\n",
       "      <th>Churn</th>\n",
       "      <th>tenuregrp</th>\n",
       "    </tr>\n",
       "  </thead>\n",
       "  <tbody>\n",
       "    <tr>\n",
       "      <th>0</th>\n",
       "      <td>1</td>\n",
       "      <td>DSL</td>\n",
       "      <td>Month-to-month</td>\n",
       "      <td>29.85</td>\n",
       "      <td>0</td>\n",
       "      <td>0-1 Year</td>\n",
       "    </tr>\n",
       "    <tr>\n",
       "      <th>1</th>\n",
       "      <td>34</td>\n",
       "      <td>DSL</td>\n",
       "      <td>One year</td>\n",
       "      <td>56.95</td>\n",
       "      <td>0</td>\n",
       "      <td>2-3 Years</td>\n",
       "    </tr>\n",
       "    <tr>\n",
       "      <th>2</th>\n",
       "      <td>2</td>\n",
       "      <td>DSL</td>\n",
       "      <td>Month-to-month</td>\n",
       "      <td>53.85</td>\n",
       "      <td>1</td>\n",
       "      <td>0-1 Year</td>\n",
       "    </tr>\n",
       "    <tr>\n",
       "      <th>3</th>\n",
       "      <td>45</td>\n",
       "      <td>DSL</td>\n",
       "      <td>One year</td>\n",
       "      <td>42.30</td>\n",
       "      <td>0</td>\n",
       "      <td>3-4 Years</td>\n",
       "    </tr>\n",
       "    <tr>\n",
       "      <th>4</th>\n",
       "      <td>2</td>\n",
       "      <td>Fiber optic</td>\n",
       "      <td>Month-to-month</td>\n",
       "      <td>70.70</td>\n",
       "      <td>1</td>\n",
       "      <td>0-1 Year</td>\n",
       "    </tr>\n",
       "  </tbody>\n",
       "</table>\n",
       "</div>"
      ],
      "text/plain": [
       "   tenure InternetService        Contract  MonthlyCharges  Churn  tenuregrp\n",
       "0       1             DSL  Month-to-month           29.85      0   0-1 Year\n",
       "1      34             DSL        One year           56.95      0  2-3 Years\n",
       "2       2             DSL  Month-to-month           53.85      1   0-1 Year\n",
       "3      45             DSL        One year           42.30      0  3-4 Years\n",
       "4       2     Fiber optic  Month-to-month           70.70      1   0-1 Year"
      ]
     },
     "execution_count": 82,
     "metadata": {},
     "output_type": "execute_result"
    }
   ],
   "source": [
    "# Copy data keeping original intact\n",
    "modelling_data = data.copy()\n",
    "modelling_data.head()"
   ]
  },
  {
   "cell_type": "code",
   "execution_count": 83,
   "metadata": {},
   "outputs": [
    {
     "data": {
      "text/html": [
       "<div>\n",
       "<style scoped>\n",
       "    .dataframe tbody tr th:only-of-type {\n",
       "        vertical-align: middle;\n",
       "    }\n",
       "\n",
       "    .dataframe tbody tr th {\n",
       "        vertical-align: top;\n",
       "    }\n",
       "\n",
       "    .dataframe thead th {\n",
       "        text-align: right;\n",
       "    }\n",
       "</style>\n",
       "<table border=\"1\" class=\"dataframe\">\n",
       "  <thead>\n",
       "    <tr style=\"text-align: right;\">\n",
       "      <th></th>\n",
       "      <th>tenure</th>\n",
       "      <th>InternetService</th>\n",
       "      <th>Contract</th>\n",
       "      <th>MonthlyCharges</th>\n",
       "      <th>Churn</th>\n",
       "    </tr>\n",
       "  </thead>\n",
       "  <tbody>\n",
       "    <tr>\n",
       "      <th>0</th>\n",
       "      <td>1</td>\n",
       "      <td>DSL</td>\n",
       "      <td>Month-to-month</td>\n",
       "      <td>29.85</td>\n",
       "      <td>0</td>\n",
       "    </tr>\n",
       "    <tr>\n",
       "      <th>1</th>\n",
       "      <td>34</td>\n",
       "      <td>DSL</td>\n",
       "      <td>One year</td>\n",
       "      <td>56.95</td>\n",
       "      <td>0</td>\n",
       "    </tr>\n",
       "    <tr>\n",
       "      <th>2</th>\n",
       "      <td>2</td>\n",
       "      <td>DSL</td>\n",
       "      <td>Month-to-month</td>\n",
       "      <td>53.85</td>\n",
       "      <td>1</td>\n",
       "    </tr>\n",
       "    <tr>\n",
       "      <th>3</th>\n",
       "      <td>45</td>\n",
       "      <td>DSL</td>\n",
       "      <td>One year</td>\n",
       "      <td>42.30</td>\n",
       "      <td>0</td>\n",
       "    </tr>\n",
       "    <tr>\n",
       "      <th>4</th>\n",
       "      <td>2</td>\n",
       "      <td>Fiber optic</td>\n",
       "      <td>Month-to-month</td>\n",
       "      <td>70.70</td>\n",
       "      <td>1</td>\n",
       "    </tr>\n",
       "  </tbody>\n",
       "</table>\n",
       "</div>"
      ],
      "text/plain": [
       "   tenure InternetService        Contract  MonthlyCharges  Churn\n",
       "0       1             DSL  Month-to-month           29.85      0\n",
       "1      34             DSL        One year           56.95      0\n",
       "2       2             DSL  Month-to-month           53.85      1\n",
       "3      45             DSL        One year           42.30      0\n",
       "4       2     Fiber optic  Month-to-month           70.70      1"
      ]
     },
     "execution_count": 83,
     "metadata": {},
     "output_type": "execute_result"
    }
   ],
   "source": [
    "modelling_data = modelling_data.drop(columns=['tenuregrp'])\n",
    "modelling_data.head()"
   ]
  },
  {
   "cell_type": "markdown",
   "metadata": {},
   "source": [
    "__Saving the Final Modeling Dataset__\n",
    "\n",
    "To support reproducibility and enable downstream tasks like BI dashboard creation or future predictions, we save the cleaned and feature-engineered dataset used for modeling."
   ]
  },
  {
   "cell_type": "code",
   "execution_count": null,
   "metadata": {},
   "outputs": [],
   "source": [
    "modelling_data.to_csv(\"data/modelling_data.csv\", index=False)"
   ]
  },
  {
   "cell_type": "markdown",
   "metadata": {},
   "source": [
    "**Assumption**: Linearity in the Logit\n",
    "Logistic regression assumes that there is a linear relationship between the log-odds of the dependent variable and each continuous independent variable (in our case, tenure and MonthlyCharges).\n",
    "\n",
    "While we did not formally test this assumption (e.g., using Box-Tidwell), we assume that this condition is reasonably satisfied based on our prior descriptive and inferential analysis of the continuous variables. The model is used for statistical inference, and no strong violations of linearity are expected given the nature of the data."
   ]
  },
  {
   "cell_type": "code",
   "execution_count": 84,
   "metadata": {},
   "outputs": [
    {
     "data": {
      "text/html": [
       "<table class=\"simpletable\">\n",
       "<caption>Generalized Linear Model Regression Results</caption>\n",
       "<tr>\n",
       "  <th>Dep. Variable:</th>         <td>Churn</td>      <th>  No. Observations:  </th>  <td>  7043</td> \n",
       "</tr>\n",
       "<tr>\n",
       "  <th>Model:</th>                  <td>GLM</td>       <th>  Df Residuals:      </th>  <td>  7036</td> \n",
       "</tr>\n",
       "<tr>\n",
       "  <th>Model Family:</th>        <td>Binomial</td>     <th>  Df Model:          </th>  <td>     6</td> \n",
       "</tr>\n",
       "<tr>\n",
       "  <th>Link Function:</th>         <td>Logit</td>      <th>  Scale:             </th> <td>  1.0000</td>\n",
       "</tr>\n",
       "<tr>\n",
       "  <th>Method:</th>                <td>IRLS</td>       <th>  Log-Likelihood:    </th> <td> -3032.0</td>\n",
       "</tr>\n",
       "<tr>\n",
       "  <th>Date:</th>            <td>Tue, 15 Jul 2025</td> <th>  Deviance:          </th> <td>  6063.9</td>\n",
       "</tr>\n",
       "<tr>\n",
       "  <th>Time:</th>                <td>11:20:51</td>     <th>  Pearson chi2:      </th> <td>7.12e+03</td>\n",
       "</tr>\n",
       "<tr>\n",
       "  <th>No. Iterations:</th>          <td>7</td>        <th>  Pseudo R-squ. (CS):</th>  <td>0.2564</td> \n",
       "</tr>\n",
       "<tr>\n",
       "  <th>Covariance Type:</th>     <td>nonrobust</td>    <th>                     </th>     <td> </td>   \n",
       "</tr>\n",
       "</table>\n",
       "<table class=\"simpletable\">\n",
       "<tr>\n",
       "                  <td></td>                     <th>coef</th>     <th>std err</th>      <th>z</th>      <th>P>|z|</th>  <th>[0.025</th>    <th>0.975]</th>  \n",
       "</tr>\n",
       "<tr>\n",
       "  <th>Intercept</th>                         <td>   -0.5132</td> <td>    0.155</td> <td>   -3.315</td> <td> 0.001</td> <td>   -0.817</td> <td>   -0.210</td>\n",
       "</tr>\n",
       "<tr>\n",
       "  <th>C(Contract)[T.One year]</th>           <td>   -0.8693</td> <td>    0.103</td> <td>   -8.441</td> <td> 0.000</td> <td>   -1.071</td> <td>   -0.667</td>\n",
       "</tr>\n",
       "<tr>\n",
       "  <th>C(Contract)[T.Two year]</th>           <td>   -1.7251</td> <td>    0.169</td> <td>  -10.195</td> <td> 0.000</td> <td>   -2.057</td> <td>   -1.393</td>\n",
       "</tr>\n",
       "<tr>\n",
       "  <th>C(InternetService)[T.Fiber optic]</th> <td>    1.0491</td> <td>    0.126</td> <td>    8.315</td> <td> 0.000</td> <td>    0.802</td> <td>    1.296</td>\n",
       "</tr>\n",
       "<tr>\n",
       "  <th>C(InternetService)[T.No]</th>          <td>   -0.9130</td> <td>    0.149</td> <td>   -6.114</td> <td> 0.000</td> <td>   -1.206</td> <td>   -0.620</td>\n",
       "</tr>\n",
       "<tr>\n",
       "  <th>tenure</th>                            <td>   -0.0322</td> <td>    0.002</td> <td>  -15.634</td> <td> 0.000</td> <td>   -0.036</td> <td>   -0.028</td>\n",
       "</tr>\n",
       "<tr>\n",
       "  <th>MonthlyCharges</th>                    <td>    0.0043</td> <td>    0.003</td> <td>    1.441</td> <td> 0.150</td> <td>   -0.002</td> <td>    0.010</td>\n",
       "</tr>\n",
       "</table>"
      ],
      "text/latex": [
       "\\begin{center}\n",
       "\\begin{tabular}{lclc}\n",
       "\\toprule\n",
       "\\textbf{Dep. Variable:}                    &      Churn       & \\textbf{  No. Observations:  } &     7043    \\\\\n",
       "\\textbf{Model:}                            &       GLM        & \\textbf{  Df Residuals:      } &     7036    \\\\\n",
       "\\textbf{Model Family:}                     &     Binomial     & \\textbf{  Df Model:          } &        6    \\\\\n",
       "\\textbf{Link Function:}                    &      Logit       & \\textbf{  Scale:             } &    1.0000   \\\\\n",
       "\\textbf{Method:}                           &       IRLS       & \\textbf{  Log-Likelihood:    } &   -3032.0   \\\\\n",
       "\\textbf{Date:}                             & Tue, 15 Jul 2025 & \\textbf{  Deviance:          } &    6063.9   \\\\\n",
       "\\textbf{Time:}                             &     11:20:51     & \\textbf{  Pearson chi2:      } &  7.12e+03   \\\\\n",
       "\\textbf{No. Iterations:}                   &        7         & \\textbf{  Pseudo R-squ. (CS):} &   0.2564    \\\\\n",
       "\\textbf{Covariance Type:}                  &    nonrobust     & \\textbf{                     } &             \\\\\n",
       "\\bottomrule\n",
       "\\end{tabular}\n",
       "\\begin{tabular}{lcccccc}\n",
       "                                           & \\textbf{coef} & \\textbf{std err} & \\textbf{z} & \\textbf{P$> |$z$|$} & \\textbf{[0.025} & \\textbf{0.975]}  \\\\\n",
       "\\midrule\n",
       "\\textbf{Intercept}                         &      -0.5132  &        0.155     &    -3.315  &         0.001        &       -0.817    &       -0.210     \\\\\n",
       "\\textbf{C(Contract)[T.One year]}           &      -0.8693  &        0.103     &    -8.441  &         0.000        &       -1.071    &       -0.667     \\\\\n",
       "\\textbf{C(Contract)[T.Two year]}           &      -1.7251  &        0.169     &   -10.195  &         0.000        &       -2.057    &       -1.393     \\\\\n",
       "\\textbf{C(InternetService)[T.Fiber optic]} &       1.0491  &        0.126     &     8.315  &         0.000        &        0.802    &        1.296     \\\\\n",
       "\\textbf{C(InternetService)[T.No]}          &      -0.9130  &        0.149     &    -6.114  &         0.000        &       -1.206    &       -0.620     \\\\\n",
       "\\textbf{tenure}                            &      -0.0322  &        0.002     &   -15.634  &         0.000        &       -0.036    &       -0.028     \\\\\n",
       "\\textbf{MonthlyCharges}                    &       0.0043  &        0.003     &     1.441  &         0.150        &       -0.002    &        0.010     \\\\\n",
       "\\bottomrule\n",
       "\\end{tabular}\n",
       "%\\caption{Generalized Linear Model Regression Results}\n",
       "\\end{center}"
      ],
      "text/plain": [
       "<class 'statsmodels.iolib.summary.Summary'>\n",
       "\"\"\"\n",
       "                 Generalized Linear Model Regression Results                  \n",
       "==============================================================================\n",
       "Dep. Variable:                  Churn   No. Observations:                 7043\n",
       "Model:                            GLM   Df Residuals:                     7036\n",
       "Model Family:                Binomial   Df Model:                            6\n",
       "Link Function:                  Logit   Scale:                          1.0000\n",
       "Method:                          IRLS   Log-Likelihood:                -3032.0\n",
       "Date:                Tue, 15 Jul 2025   Deviance:                       6063.9\n",
       "Time:                        11:20:51   Pearson chi2:                 7.12e+03\n",
       "No. Iterations:                     7   Pseudo R-squ. (CS):             0.2564\n",
       "Covariance Type:            nonrobust                                         \n",
       "=====================================================================================================\n",
       "                                        coef    std err          z      P>|z|      [0.025      0.975]\n",
       "-----------------------------------------------------------------------------------------------------\n",
       "Intercept                            -0.5132      0.155     -3.315      0.001      -0.817      -0.210\n",
       "C(Contract)[T.One year]              -0.8693      0.103     -8.441      0.000      -1.071      -0.667\n",
       "C(Contract)[T.Two year]              -1.7251      0.169    -10.195      0.000      -2.057      -1.393\n",
       "C(InternetService)[T.Fiber optic]     1.0491      0.126      8.315      0.000       0.802       1.296\n",
       "C(InternetService)[T.No]             -0.9130      0.149     -6.114      0.000      -1.206      -0.620\n",
       "tenure                               -0.0322      0.002    -15.634      0.000      -0.036      -0.028\n",
       "MonthlyCharges                        0.0043      0.003      1.441      0.150      -0.002       0.010\n",
       "=====================================================================================================\n",
       "\"\"\""
      ]
     },
     "execution_count": 84,
     "metadata": {},
     "output_type": "execute_result"
    }
   ],
   "source": [
    "model = sm.GLM.from_formula(\n",
    "    'Churn ~ tenure + MonthlyCharges + C(Contract) + C(InternetService)',\n",
    "    family=sm.families.Binomial(),\n",
    "    data=modelling_data  \n",
    ")\n",
    "result = model.fit()\n",
    "result.summary()  "
   ]
  },
  {
   "cell_type": "markdown",
   "metadata": {},
   "source": [
    "__Interpretation__\n",
    "\n",
    "**Tenure**: With a coefficient of –0.0322, the odds ratio is 0.968. This means that for every additional month a customer stays, they have 0.968 times the odds of churning.\n",
    "In other words, the odds of churn **decrease by approximately 3.2%** per month. This suggests that customer loyalty increases over time.\n",
    "\n",
    "**Monthly Charges**: With a coefficient of +0.0043, the odds ratio is 1.004. This means that for every additional dollar a customer pays, they have 1.004 times the odds of churning — that is, the odds of churn increase by approximately 0.4% per dollar increase.\n",
    "However, this effect is not statistically significant (p > 0.05).\n",
    "We have chosen to retain this variable due to its potential business importance, as customers paying more may still be at risk of churn due to perceived value, service dissatisfaction, or contract structure.\n",
    "\n",
    "**Contract_One year**: With a coefficient of –0.8693, the odds ratio is 0.42. This means that compared to month-to-month contract customers, one-year contract customers have 0.42 times the odds of churning.\n",
    "In other words, Customers on a One-year contract are **58% less likely to churn** than those on a month-to-month contract.\n",
    "\n",
    "**Contract_Two year**: With a coefficient of –1.7251, the odds ratio is 0.18. This means that compared to month-to-month contract customers, two-year contract customers have 0.18 times the odds of churning.\n",
    "In other words, Customers on a Two-year contract are **82% less likely to churn** than those on a month-to-month contract.\n",
    "\n",
    "**InternetService_Fiber optic**: With a coefficient of +1.0491, the odds ratio is 2.85. This means that compared to DSL internet service customers, Fibre optics internet service customers have 2.85 times the odds of churning.\n",
    "In other words, Fibre optics internet service customers are **185% more likely to churn** than DSL internet service customers\n",
    "\n",
    "**InternetService_No**: With a coefficient of -0.9130, the odds ratio is 0.40. This means that compared to DSL internet service customers, No internet service customers have 0.40 times the odds of churning.\n",
    "In other words, No internet service customers are **60% less likely to churn** than DSL internet service customers"
   ]
  },
  {
   "cell_type": "markdown",
   "metadata": {},
   "source": [
    "### __Model Evaluation__"
   ]
  },
  {
   "cell_type": "markdown",
   "metadata": {},
   "source": [
    "This section assesses the performance of the fitted logistic regression model using classification metrics and residual diagnostics to determine how well it predicts customer churn and how reliable the model structure is"
   ]
  },
  {
   "cell_type": "markdown",
   "metadata": {},
   "source": [
    "#### __1. Cox-Snell Pseudo R²__\n",
    "\n",
    "This metric assesses the model’s goodness-of-fit by comparing the log-likelihood of the full model to that of a null model with no predictors. It is conceptually similar to R² in linear regression.\n",
    "\n",
    "From your model summary, Pseudo R-squ. (CS) is 0.2564\n",
    "\n",
    "__Interpretation__\n",
    "\n",
    "A value of 0.256 suggests that the model explains about 25.6% of the variation in the log-likelihood of churn. For logistic models, Cox–Snell values between 0.2 and 0.4 are generally considered acceptable to strong, indicating that this model fits the data reasonably well."
   ]
  },
  {
   "cell_type": "markdown",
   "metadata": {},
   "source": [
    "#### __2. Classification Report__\n",
    "\n",
    "This report provides a breakdown of key performance metrics — accuracy, precision, recall, and F1-score — to evaluate how well the model distinguishes between churners and non-churners.\n",
    "\n",
    "- Accuracy shows overall correctness.\n",
    "\n",
    "- Precision tells us how many predicted churners actually churned.\n",
    "\n",
    "- Recall shows how many actual churners were correctly identified.\n",
    "\n",
    "- F1-score balances both precision and recall.\n",
    "\n",
    "While the project focuses on statistical inference, this report offers practical insight into how reliable the model would be if used to identify at-risk customers for churn intervention."
   ]
  },
  {
   "cell_type": "code",
   "execution_count": 86,
   "metadata": {},
   "outputs": [
    {
     "name": "stdout",
     "output_type": "stream",
     "text": [
      "Classification Report:\n",
      "              precision    recall  f1-score   support\n",
      "\n",
      "   Not Churn       0.83      0.90      0.86      5174\n",
      "       Churn       0.63      0.49      0.55      1869\n",
      "\n",
      "    accuracy                           0.79      7043\n",
      "   macro avg       0.73      0.69      0.71      7043\n",
      "weighted avg       0.78      0.79      0.78      7043\n",
      "\n"
     ]
    }
   ],
   "source": [
    "# Get predicted probabilities \n",
    "y_pred_prob = result.predict(modelling_data)\n",
    "\n",
    "# Convert predicted probablities to predicting classes\n",
    "y_pred_class = (y_pred_prob >= 0.5).astype(int)\n",
    "\n",
    "# Get true labels\n",
    "y_true = modelling_data[\"Churn\"]\n",
    "\n",
    "# Generate classification report \n",
    "print(\"Classification Report:\")\n",
    "print(classification_report(y_true, y_pred_class, target_names=[\"Not Churn\", \"Churn\"]))"
   ]
  },
  {
   "cell_type": "markdown",
   "metadata": {},
   "source": [
    "While this project is primarily inferential — aimed at understanding factors that influence customer churn — evaluating classification metrics helps assess how well the model distinguishes between churners and non-churners. This adds practical validation to the statistical findings.\n",
    "\n",
    "🔹 **Class: Not Churn**\n",
    "\n",
    "- Precision: 0.83 – 83% of customers predicted to stay actually stayed.\n",
    "\n",
    "- Recall: 0.90 – 90% of all non-churning customers were correctly identified.\n",
    "\n",
    "- F1 Score: 0.86 – Strong overall performance for this class.\n",
    "\n",
    "✅ The model is highly reliable in identifying loyal customers, supporting our findings on the impact of longer tenures and contract commitments.\n",
    "\n",
    "🔸 **Class: Churn**\n",
    "- Precision: 0.63 – 63% of predicted churners actually churned.\n",
    "\n",
    "- Recall: 0.49 – Only 49% of actual churners were correctly identified.\n",
    "\n",
    "- F1 Score: 0.55 – Moderate ability to capture churners.\n",
    "\n",
    "⚠️ This reflects the complexity of churn behavior, suggesting that unobserved factors (like customer satisfaction or service issues) may also be important.\n",
    "\n",
    "✅ Overall Accuracy: 0.79\n",
    "The model correctly classifies 79% of all customers, reinforcing that the selected predictors are statistically informative.\n",
    "\n",
    "📌 __Interpretation__\n",
    "\n",
    "Although this analysis is not focused on prediction, the classification report confirms that the model meaningfully separates churners from non-churners. This strengthens confidence in the interpretation of model coefficients and supports its use for data-driven decision-making in churn management."
   ]
  },
  {
   "cell_type": "markdown",
   "metadata": {},
   "source": [
    "#### __3. Confusion Matrix__\n",
    "\n",
    "The confusion matrix provides a breakdown of actual vs predicted classifications for the churn model.\n",
    "While this is primarily an inference project, the confusion matrix helps visualize model performance — especially in identifying where the model may be making false positives (wrongly predicting churn) or false negatives (failing to detect churn).\n",
    "\n",
    "This strengthens the practical relevance of your statistical model."
   ]
  },
  {
   "cell_type": "code",
   "execution_count": 87,
   "metadata": {},
   "outputs": [
    {
     "data": {
      "image/png": "[encoded data removed]",
      "text/plain": [
       "<Figure size 600x400 with 2 Axes>"
      ]
     },
     "metadata": {},
     "output_type": "display_data"
    }
   ],
   "source": [
    "# Generate confusion matrix\n",
    "cm = confusion_matrix(y_true, y_pred_class)\n",
    "\n",
    "# Plot as heatmap\n",
    "plt.figure(figsize=(6, 4))\n",
    "sns.heatmap(cm, annot=True, fmt='d', cmap='YlGnBu')\n",
    "plt.title(\"Confusion Matrix\")\n",
    "plt.tight_layout()\n",
    "plt.show()"
   ]
  },
  {
   "cell_type": "markdown",
   "metadata": {},
   "source": [
    "__Interpretation__\n",
    "\n",
    "✅ True Negatives (4638):\n",
    "The model correctly identified 4,638 customers who stayed — indicating strong performance in recognizing loyal customers.\n",
    "\n",
    "❌ False Positives (536):\n",
    "These are 536 customers incorrectly predicted to churn but actually stayed.\n",
    "\n",
    "From an inference view, this reveals that some stable customers share similar characteristics with churners — potentially offering insight into perceived churn risk.\n",
    "\n",
    "❌ False Negatives (957):\n",
    "These are 957 churners the model failed to detect.\n",
    "\n",
    "This is important: nearly half of actual churners were missed, reinforcing that churn is influenced by more than just tenure, contract, and internet type — possibly by satisfaction, service issues, or unseen behavioral data.\n",
    "\n",
    "✅ True Positives (912):\n",
    "The model successfully identified 912 customers who actually churned, confirming that the variables used in the model do capture real churn signals — especially contract type and internet service.\n",
    "\n"
   ]
  },
  {
   "cell_type": "markdown",
   "metadata": {},
   "source": [
    "#### __4. Functional Prediction Plot__\n",
    "\n",
    "This plot helps visualize the isolated effect of a continuous predictor (e.g., tenure) on the predicted probability of churn, while holding all other variables constant.\n",
    "\n",
    "In this case, we examine how churn probability changes as tenure increases. This complements the model coefficients by showing the relationship visually and non-linearly, allowing for better interpretation and communication of trends, especially to non-technical stakeholders."
   ]
  },
  {
   "cell_type": "code",
   "execution_count": 88,
   "metadata": {},
   "outputs": [
    {
     "data": {
      "image/png": "[encoded data removed]",
      "text/plain": [
       "<Figure size 1000x600 with 1 Axes>"
      ]
     },
     "metadata": {},
     "output_type": "display_data"
    },
    {
     "data": {
      "text/plain": [
       "<Figure size 640x480 with 0 Axes>"
      ]
     },
     "metadata": {},
     "output_type": "display_data"
    }
   ],
   "source": [
    "values = {'InternetService': 'DSL',\t'Contract': 'Month-to-month', 'MonthlyCharges': modelling_data['MonthlyCharges'].mean()}\n",
    "\n",
    "# Predict functionally for tenure with confidence bands\n",
    "pr, cb, fv = predict_functional(\n",
    "    result, \n",
    "    \"tenure\", \n",
    "    values = values,\n",
    "    ci_method=\"simultaneous\"\n",
    ")\n",
    "\n",
    "# Plotting\n",
    "plt.figure(figsize=(10, 6))\n",
    "ax = sns.lineplot(x=fv, y=pr, lw=3, label=\"Predicted Probability\")\n",
    "ax.fill_between(fv, cb[:, 0], cb[:, 1], color='grey', alpha=0.3, label=\"95% CI\")\n",
    "ax.set_xlabel(\"Tenure (Months)\")\n",
    "ax.set_ylabel(\"Predicted Churn Probability\")\n",
    "ax.set_title(\"Functional Prediction Plot: Tenure vs. Churn Probability\")\n",
    "ax.legend()\n",
    "ax.grid(True)\n",
    "plt.tight_layout()\n",
    "plt.show()\n",
    "\n",
    "# For slides reporting \n",
    "plt.savefig(\"assets/Functional Prediction Plot: Tenure vs. Churn Probability.png\", bbox_inches=\"tight\")"
   ]
  },
  {
   "cell_type": "markdown",
   "metadata": {},
   "source": [
    "__Interpretation__\n",
    "\n",
    "The model’s confidence band (95%) is relatively narrow across most of the tenure range, suggesting that the observed relationship is statistically stable and not due to sampling noise.\n",
    "The functional form used here complements the model coefficient interpretation, offering a more intuitive, visual confirmation of tenure's importance.\n",
    "\n"
   ]
  },
  {
   "cell_type": "markdown",
   "metadata": {},
   "source": [
    "#### __5. Deviance Residual Plot__"
   ]
  },
  {
   "cell_type": "markdown",
   "metadata": {},
   "source": [
    "This helps assess how well the model fits individual observations, especially spotting where predictions deviate substantially from actual outcomes. It complements the classification metrics by giving a more nuanced view of model reliability at different probability levels."
   ]
  },
  {
   "cell_type": "code",
   "execution_count": 89,
   "metadata": {},
   "outputs": [
    {
     "data": {
      "image/png": "[encoded data removed]",
      "text/plain": [
       "<Figure size 1000x500 with 1 Axes>"
      ]
     },
     "metadata": {},
     "output_type": "display_data"
    },
    {
     "data": {
      "text/plain": [
       "<Figure size 640x480 with 0 Axes>"
      ]
     },
     "metadata": {},
     "output_type": "display_data"
    }
   ],
   "source": [
    "# Calculate predicted probabilities and deviance residuals \n",
    "modelling_data[\"predicted_prob\"] = result.predict()\n",
    "modelling_data[\"deviance_resid\"] = result.resid_deviance\n",
    "\n",
    "# Plotting the Deviance Residuals vs. Predicted Probabilities\n",
    "plt.figure(figsize=(10, 5))\n",
    "sns.scatterplot(\n",
    "    x=modelling_data[\"predicted_prob\"],\n",
    "    y=modelling_data[\"deviance_resid\"],\n",
    "    alpha=0.5\n",
    ")\n",
    "plt.axhline(0, linestyle=\"--\", color=\"gray\")\n",
    "plt.title(\"Deviance Residuals vs. Predicted Probabilities\")\n",
    "plt.xlabel(\"Predicted Churn Probability\")\n",
    "plt.ylabel(\"Deviance Residuals\")\n",
    "plt.grid(True)\n",
    "plt.tight_layout()\n",
    "plt.show()\n",
    "\n",
    "# For slides reporting \n",
    "plt.savefig(\"assets/Deviance Residuals vs. Predicted Probabilities.png\", bbox_inches=\"tight\")"
   ]
  },
  {
   "cell_type": "markdown",
   "metadata": {},
   "source": [
    "__Interpretation__\n",
    "\n",
    "The deviance residuals are symmetrically distributed around zero and follow the expected pattern for a logistic model. This suggests that the model is a good fit for most observations, with no major outliers or misspecification. The absence of extreme residuals reinforces confidence in the model’s stability and the validity of its inferences."
   ]
  },
  {
   "cell_type": "markdown",
   "metadata": {},
   "source": [
    "###  __Model Finalization__\n",
    "\n",
    "Based on the evaluation metrics — including classification report, deviance residuals, and functional prediction plots — the logistic regression model demonstrates strong discriminatory ability and interpretable coefficients that align with business expectations. \n",
    "\n",
    "Given its performance and interpretability, we now proceed to save the model for reuse and potential deployment in reporting or dashboard applications.\n"
   ]
  },
  {
   "cell_type": "code",
   "execution_count": 91,
   "metadata": {},
   "outputs": [],
   "source": [
    "with open(\"model/glm_churn_model.pkl\", \"wb\") as f:\n",
    "    pickle.dump(result, f)"
   ]
  },
  {
   "cell_type": "markdown",
   "metadata": {},
   "source": []
  },
  {
   "cell_type": "markdown",
   "metadata": {},
   "source": [
    "## __Conclusion__"
   ]
  },
  {
   "cell_type": "markdown",
   "metadata": {},
   "source": [
    "#### __Key Findings & Business Implications__\n",
    "\n",
    "This statistical analysis aimed to identify significant drivers of customer churn, rather than build a predictive tool. However, our inferential model reveals actionable insights with direct business implications:\n",
    "\n",
    "1. Tenure Strongly Reduces Churn Risk\n",
    "Finding: Customers with longer tenure have significantly lower churn probability.\n",
    "\n",
    "Business Implication: Implement loyalty reward programs and milestone-based benefits to retain customers over time. Encourage long-term relationships with added incentives the longer they stay.\n",
    "\n",
    "2. Contract Type Is a Strong Retention Lever\n",
    "Finding: One-year and two-year contracts significantly reduce the odds of churn compared to month-to-month plans.\n",
    "\n",
    "Business Implication: Promote contract-based plans over flexible month-to-month options. Consider offering discounts or bonuses for customers who switch to longer-term contracts.\n",
    "\n",
    "3. Internet Service Type Matters\n",
    "Finding: Customers using Fiber Optic services are significantly more likely to churn than those on DSL or with no internet service.\n",
    "\n",
    "Business Implication: This suggests possible performance, cost, or satisfaction issues with the fiber optic service. Investigate further via customer surveys or support data and prioritize service quality improvements in this segment.\n",
    "\n",
    "4. Churners Pay More Monthly\n",
    "Finding: On average, churners pay significantly higher monthly charges.\n",
    "\n",
    "Business Implication: High billing may contribute to dissatisfaction or switching behavior. Consider targeted discount offers, value-add bundles, or price rebalancing for high-paying customers at risk of churn.\n",
    "\n",
    "5. Residual and Functional Plots Confirm Model Reliability\n",
    "Functional prediction plots show churn probability steadily declines with tenure.\n",
    "\n",
    "Deviance residuals show no major misfit patterns, indicating model reliability."
   ]
  },
  {
   "cell_type": "markdown",
   "metadata": {},
   "source": [
    "#### __Summary of Model Coefficients__\n",
    "\n",
    "| Variable                         | Coefficient | Odds Ratio | P-value | Interpretation                                                                                                                                                                                            |\n",
    "| -------------------------------- | ----------- | ---------- | ------- | --------------------------------------------------------------------------------------------------------------------------------------------------------------------------------------------------------- |\n",
    "| **tenure**                       | –0.0322     | 0.968      | <0.001  | For each additional month a customer stays, the odds of churn **decrease by \\~3.2%**. This suggests customer loyalty grows over time.                                                                     |\n",
    "| **MonthlyCharges**               | +0.0043     | 1.004      | 0.150   | A slight increase in churn odds with higher bills, but **not statistically significant** (p > 0.05). We include it due to its importance in business interpretation and earlier descriptive significance. |\n",
    "| **Contract\\_One year**           | –0.8693     | 0.42       | <0.001  | Customers on a 1-year contract are **58% less likely to churn** than those on a month-to-month contract.                                                                                                  |\n",
    "| **Contract\\_Two year**           | –1.7251     | 0.18       | <0.001  | Customers on a 2-year contract are **82% less likely to churn** than those on a month-to-month contract.                                                                                                  |\n",
    "| **InternetService\\_Fiber optic** | +1.0491     | 2.85       | <0.001  | Customers with fiber-optic internet have **2.85 times higher odds of churning** than DSL users — potentially due to cost or service dissatisfaction.                                                      |\n",
    "| **InternetService\\_No**          | –0.9130     | 0.40       | <0.001  | Customers without internet service are **60% less likely to churn** than DSL users — likely low-engagement customers.                                                                                     |\n"
   ]
  },
  {
   "cell_type": "markdown",
   "metadata": {},
   "source": [
    "#### __Final Conclusion__\n",
    "\n",
    "This analysis set out to understand the key factors influencing customer churn using logistic regression. Our findings reveal that contract type and customer tenure are the most significant predictors of churn. Customers on longer-term contracts and those with higher tenure are considerably less likely to churn, confirming the importance of customer retention strategies that emphasize long-term commitment.\n",
    "\n",
    "Conversely, customers with fiber-optic internet — despite potentially better service — show a higher likelihood of churning, which may reflect issues related to pricing or service dissatisfaction. While monthly charges showed significance in exploratory analysis, its effect was not statistically strong in the model, suggesting that price sensitivity may interact with other variables like contract type.\n",
    "\n",
    "Overall, the model not only provides statistical insights but also guides actionable strategies. Targeted retention efforts should prioritize month-to-month customers and recent signups, while further investigation into the fiber-optic user experience is recommended.\n",
    "\n",
    "This project demonstrates the value of statistical modeling not just in prediction, but in surfacing meaningful patterns that can support business decisions and improve customer retention strategies."
   ]
  },
  {
   "cell_type": "markdown",
   "metadata": {},
   "source": []
  },
  {
   "cell_type": "code",
   "execution_count": null,
   "metadata": {},
   "outputs": [],
   "source": [
    "# Save model\n",
    "with open(\"assets/glm_churn_model.pkl\", \"wb\") as f:\n",
    "    pickle.dump(churn_model, f)"
   ]
  }
 ],
 "metadata": {
  "kernelspec": {
   "display_name": "Python 3.12.7 ('myenv')",
   "language": "python",
   "name": "python3"
  },
  "language_info": {
   "codemirror_mode": {
    "name": "ipython",
    "version": 3
   },
   "file_extension": ".py",
   "mimetype": "text/x-python",
   "name": "python",
   "nbconvert_exporter": "python",
   "pygments_lexer": "ipython3",
   "version": "3.12.7"
  },
  "orig_nbformat": 4,
  "vscode": {
   "interpreter": {
    "hash": "63c49e8d1e646aa190844836d1cfc5ee1f530ae32fef9584fc84302df7dcdbd1"
   }
  }
 },
 "nbformat": 4,
 "nbformat_minor": 2
}
